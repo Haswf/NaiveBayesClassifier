{
 "cells": [
  {
   "cell_type": "markdown",
   "metadata": {},
   "source": [
    "\n",
    "### The University of Melbourne, School of Computing and Information Systems\n",
    "# COMP30027 Machine Learning, 2020 Semester 1\n",
    "\n",
    "## Assignment 1: Naive Bayes Classifiers\n",
    "\n",
    "###### Submission deadline: 7 pm, Monday 20 Apr 2020"
   ]
  },
  {
   "cell_type": "markdown",
   "metadata": {},
   "source": [
    "**Student Name(s):**    Shuyang Fan, Yiran Wang \n",
    "\n",
    "**Student ID(s):**     988301, 987751\n"
   ]
  },
  {
   "cell_type": "markdown",
   "metadata": {},
   "source": [
    "This iPython notebook is a template which you will use for your Assignment 1 submission.\n",
    "\n",
    "Marking will be applied on the four functions that are defined in this notebook, and to your responses to the questions at the end of this notebook (Submitted in a separate PDF file).\n",
    "\n",
    "**NOTE: YOU SHOULD ADD YOUR RESULTS, DIAGRAMS AND IMAGES FROM YOUR OBSERVATIONS IN THIS FILE TO YOUR REPORT (the PDF file).**\n",
    "\n",
    "You may change the prototypes of these functions, and you may write other functions, according to your requirements. We would appreciate it if the required functions were prominent/easy to find.\n",
    "\n",
    "**Adding proper comments to your code is MANDATORY. **"
   ]
  },
  {
   "cell_type": "code",
   "execution_count": 11,
   "metadata": {
    "pycharm": {
     "is_executing": false,
     "name": "#%%\n"
    }
   },
   "outputs": [],
   "source": [
    "import pandas as pd\n",
    "import numpy as np\n",
    "from pandas.api.types import is_numeric_dtype\n",
    "from scipy.stats import mode \n",
    "from collections import Counter, defaultdict\n",
    "import math"
   ]
  },
  {
   "cell_type": "code",
   "execution_count": 12,
   "metadata": {
    "pycharm": {
     "is_executing": false,
     "name": "#%%\n"
    }
   },
   "outputs": [],
   "source": [
    "# Read data from csv\n",
    "def read_data(fileName):\n",
    "    data = pd.read_csv(fileName, header=None)\n",
    "    return data"
   ]
  },
  {
   "cell_type": "code",
   "execution_count": 13,
   "metadata": {
    "pycharm": {
     "is_executing": false,
     "name": "#%%\n"
    }
   },
   "outputs": [],
   "source": [
    "def handle_missing_value(data, label_index):\n",
    "    # Make a copy of raw data\n",
    "    copy = data.copy()\n",
    "    # Drop rows contains question mark\n",
    "    copy = copy[(copy.astype(str) != '?').all(axis=1)]\n",
    "    # Extract label from data\n",
    "    label = copy.iloc[:,label_index]\n",
    "    # Filling missing value with category mode for each column\n",
    "    for i in range(copy.shape[1] - 1):\n",
    "        copy.iloc[:,:i] = copy.iloc[:,:i].groupby(label).transform(lambda x: x.fillna(x.mode())) \n",
    "    # Print how many missing value have been handled \n",
    "    # print(data.isna().sum() - copy.isna().sum())\n",
    "    # return the modified copy\n",
    "    return copy\n",
    "\n",
    "def binning(data):\n",
    "    copy = data.copy()\n",
    "    #select the numeric attribute and put it in the list\n",
    "    numeric_column = []\n",
    "    for column in range(copy.shape[1] - 1):\n",
    "        if (is_numeric_dtype(copy.iloc[:,column])):\n",
    "            numeric_column.append(column)\n",
    "    #discretising the numeric attribute into equally wide bins\n",
    "    discretizer(copy, numeric_column, [5 for i in range(len(numeric_column))])\n",
    "    #print(copy.head())\n",
    "    return copy\n",
    "    \n",
    "    \n",
    "def discretizer(X, column_index, bin_size):\n",
    "    for index, column in enumerate(column_index):\n",
    "        X.iloc[:,column] = pd.cut(X.iloc[:,column], bin_size[index])\n",
    "\n",
    "#hold_out the training and test data in the ratio of 8:2    \n",
    "def train_test_split(X, y, test_size=0.333):\n",
    "    X_total = X.shape[0]\n",
    "    assert(X_total == y.size)\n",
    "    arr_rand = np.random.rand(X.shape[0])\n",
    "    split = arr_rand < np.percentile(arr_rand, test_size*100)\n",
    "    X_test = X[split]\n",
    "    y_test = y[split]\n",
    "    X_train =  X[~split]\n",
    "    y_train = y[~split]\n",
    "    return X_train, X_test, y_train, y_test\n",
    "\n",
    "# This function should prepare the data by reading it from a file and converting it into a useful format for training and testing\n",
    "def preprocess(data, label_index):\n",
    "    data = handle_missing_value(data, label_index)\n",
    "    # data = binning(data)\n",
    "    \n",
    "    # print(data)\n",
    "    X1 = data.iloc[:,:label_index]\n",
    "    X2 = data.iloc[:,label_index + 1:]\n",
    "    X = pd.concat([X1,X2],axis =1)\n",
    "    y = data.iloc[:,label_index]\n",
    "    return X, y\n"
   ]
  },
  {
   "cell_type": "code",
   "execution_count": 14,
   "metadata": {
    "pycharm": {
     "is_executing": false,
     "name": "#%%\n"
    }
   },
   "outputs": [],
   "source": [
    "#Bayes calculate the product of prior and conditinoals,, take the max\n",
    "#then predict, throw the X-test into the model\n",
    "#then check the accuracy"
   ]
  },
  {
   "cell_type": "code",
   "execution_count": 15,
   "metadata": {
    "pycharm": {
     "is_executing": false,
     "name": "#%%\n"
    }
   },
   "outputs": [
    {
     "name": "stdout",
     "text": [
      "<=50K\n"
     ],
     "output_type": "stream"
    }
   ],
   "source": [
    "def find_key_with_max_value(dic):\n",
    "    max_value = -1e5\n",
    "    max_key = None\n",
    "    for key in dic:\n",
    "        if dic[key] > max_value:\n",
    "            max_key = key\n",
    "            max_value = dic[key]\n",
    "    return max_key\n",
    "print(find_key_with_max_value({'<=50K': -15.768737460661638, '>50K': -18.479883639470405}))"
   ]
  },
  {
   "cell_type": "code",
   "execution_count": 51,
   "metadata": {
    "pycharm": {
     "is_executing": false,
     "name": "#%%\n"
    }
   },
   "outputs": [],
   "source": [
    "class BayesClassifier():\n",
    "\n",
    "    def train(self, X_train, y_train, type_dict):\n",
    "        self.X_train = X_train.copy()\n",
    "        self.y_train = y_train.copy()\n",
    "        #extract the possible class labels from training data\n",
    "        self.possible_labels = np.unique(self.y_train)\n",
    "        #get the prior probability of training data\n",
    "        self.prior = self.get_prior(self.y_train)\n",
    "        self.type_dict = type_dict\n",
    "        self.categorical_prob = self.compute_categorical(self.type_dict['nominal'],self.X_train, self.y_train)\n",
    "        self.numeric_prob = self.compute_numeric(self.type_dict['numeric'], self.X_train, self.y_train)\n",
    "    \n",
    "    #function calculates the prior probability for all labels\n",
    "    def get_prior(self, y_train):\n",
    "        train_inputs = y_train\n",
    "        #counts is a list that stores number of each label accordingly\n",
    "        labels, counts = np.unique(train_inputs, return_counts=True)\n",
    "        prior = {}\n",
    "        for i, label in enumerate(labels):\n",
    "            prior[label] = float(counts[i])/len(train_inputs)\n",
    "        return prior      \n",
    "    \n",
    "    #function examines whether an attribute is numeric \n",
    "    def is_numeric_attribute(self, data, column_index):\n",
    "        return is_numeric_dtype(data.iloc[:,column_index])\n",
    "\n",
    "    #function that computes the conditional probability of categorical attribtues\n",
    "    def compute_categorical(self, categorical_indexes, X_train, y_train):\n",
    "        #create a dictionary to store results\n",
    "        categorical_prob = defaultdict(lambda: defaultdict(dict))\n",
    "        # Separate training instances by label\n",
    "        grouped = X_train.groupby(y_train)\n",
    "        \n",
    "        for label in self.possible_labels:\n",
    "            separated = grouped.get_group(label)\n",
    "            #for each attribute in the same class\n",
    "            for column_index in categorical_indexes:\n",
    "                # Only process categorical attribute\n",
    "                if (self.is_numeric_attribute(X_train, column_index) == False):\n",
    "                    # Extract one attribute from group\n",
    "                    attribute = separated.iloc[:,column_index]\n",
    "                    total_rows = attribute.shape[0]\n",
    "                    # Find all possible values of this attribute\n",
    "                    possible_values = np.unique(X_train.iloc[:,column_index])\n",
    "                    # Call Counter to count the frequency of each value\n",
    "                    counts = Counter(attribute)\n",
    "                    for value in possible_values:\n",
    "                        if value in counts:\n",
    "                            categorical_prob[column_index][str(value)][label] = counts[value]/total_rows\n",
    "        return categorical_prob\n",
    "    \n",
    "    #function calculated the conditional probability for numeric attribtues\n",
    "    def compute_numeric(self, numeric_indexes, X_train, y_train):\n",
    "        numeric_prob = defaultdict(lambda: defaultdict(dict))\n",
    "        # Sepeate training instances by label\n",
    "        grouped = X_train.groupby(y_train)\n",
    "        \n",
    "        for label in self.possible_labels:\n",
    "            separated = grouped.get_group(label)\n",
    "            for column_index in numeric_indexes:\n",
    "                \n",
    "                if self.is_numeric_attribute(X_train, column_index):\n",
    "                    # Extract the attribute from group\n",
    "                    attribute = separated.iloc[:,column_index]\n",
    "                    #calculate the mean and standard deviation of each attribute\n",
    "                    numeric_prob[column_index]['mean'][label] = attribute.mean()\n",
    "                    numeric_prob[column_index]['std'][label] = attribute.std()\n",
    "                    # print(label, column_index, numeric_prob[column_index]['std'][label])\n",
    "        print(numeric_prob)\n",
    "        return numeric_prob\n",
    "    \n",
    "    \n",
    "    def guassian(self, value, mean, stdev):\n",
    "            exponent = math.exp(-((value-mean)**2 / (2 * stdev**2)))\n",
    "            return (1 / (math.sqrt(2 * math.pi) * stdev)) * exponent\n",
    "\n",
    "    def predict(self, X_test):\n",
    "        X_test_copy = X_test.copy()\n",
    "        categorical_prob = self.categorical_prob\n",
    "        numeric_prob = self.numeric_prob \n",
    "        priors = self.prior\n",
    "        possible_labels = self.possible_labels\n",
    "        predicted_outputs = []\n",
    "    \n",
    "        row, column = X_test_copy.shape\n",
    "        for row_index in range(row):\n",
    "            probability = defaultdict(float)\n",
    "            \n",
    "            for label in possible_labels:\n",
    "                probability[label] = safe_log(priors[label])\n",
    "                \n",
    "            for column_index in range(column):\n",
    "                # Get the value of this attribute\n",
    "                value = X_test_copy.iloc[row_index, column_index]\n",
    "                # Get conditional probability\n",
    "                for label in possible_labels:\n",
    "                    #calculate the numeric conditional probabily\n",
    "                    if column_index in self.type_dict['numeric']:\n",
    "                        conditional_probability = self.guassian(value, numeric_prob[column_index]['mean'][label], numeric_prob[column_index]['std'][label])\n",
    "                        \n",
    "                    elif column_index in self.type_dict['nominal']:\n",
    "                        if label not in categorical_prob[column_index][str(value)]:\n",
    "                            #assign a tiny probability to each event even if events are unlikely (epsilon smoothing)\n",
    "                            conditional_probability = 1e-9\n",
    "                        else:\n",
    "                            conditional_probability = categorical_prob[column_index][str(value)][label]\n",
    "                    #take the log of each probabilty and sum it\n",
    "                    probability[label] += safe_log(conditional_probability)\n",
    "            # The prediced outcome is the lebel with the highest probability\n",
    "            predicted_outputs.append(find_key_with_max_value(probability))\n",
    "        return predicted_outputs\n",
    "    \n",
    "\n",
    "\n",
    "def safe_log(x):\n",
    "    if x <= 0:\n",
    "        return 0\n",
    "    return math.log(x)"
   ]
  },
  {
   "cell_type": "code",
   "execution_count": 17,
   "metadata": {
    "pycharm": {
     "is_executing": false,
     "name": "#%%\n"
    }
   },
   "outputs": [],
   "source": [
    "def accuracy(y_predicted, y_truth):\n",
    "    assert(y_predicted.size==y_truth.size)\n",
    "    return np.sum(y_predicted == y_truth)/y_predicted.size"
   ]
  },
  {
   "cell_type": "code",
   "execution_count": 31,
   "metadata": {
    "pycharm": {
     "is_executing": false,
     "name": "#%%\n"
    }
   },
   "outputs": [],
   "source": [
    "data_set =\"./datasets/wdbc.data\"\n",
    "data = read_data(data_set)\n",
    "# data = data.iloc[:,1:32]\n",
    "X, y = preprocess(data,1)"
   ]
  },
  {
   "cell_type": "code",
   "execution_count": 52,
   "metadata": {
    "pycharm": {
     "is_executing": false
    }
   },
   "outputs": [
    {
     "traceback": [
      "\u001b[1;31m---------------------------------------------------------------------------\u001b[0m",
      "\u001b[1;31mTypeError\u001b[0m                                 Traceback (most recent call last)",
      "\u001b[1;32m<ipython-input-52-20db0625514a>\u001b[0m in \u001b[0;36m<module>\u001b[1;34m\u001b[0m\n\u001b[0;32m      2\u001b[0m \u001b[0mX_train\u001b[0m\u001b[1;33m,\u001b[0m \u001b[0mX_test\u001b[0m\u001b[1;33m,\u001b[0m \u001b[0my_train\u001b[0m\u001b[1;33m,\u001b[0m \u001b[0my_test\u001b[0m \u001b[1;33m=\u001b[0m \u001b[0mtrain_test_split\u001b[0m\u001b[1;33m(\u001b[0m\u001b[0mX\u001b[0m\u001b[1;33m,\u001b[0m\u001b[0my\u001b[0m\u001b[1;33m)\u001b[0m\u001b[1;33m\u001b[0m\u001b[1;33m\u001b[0m\u001b[0m\n\u001b[0;32m      3\u001b[0m \u001b[0mbayes\u001b[0m \u001b[1;33m=\u001b[0m \u001b[0mBayesClassifier\u001b[0m\u001b[1;33m(\u001b[0m\u001b[1;33m)\u001b[0m\u001b[1;33m\u001b[0m\u001b[1;33m\u001b[0m\u001b[0m\n\u001b[1;32m----> 4\u001b[1;33m \u001b[0mbayes\u001b[0m\u001b[1;33m.\u001b[0m\u001b[0mtrain\u001b[0m\u001b[1;33m(\u001b[0m\u001b[0mX_train\u001b[0m\u001b[1;33m,\u001b[0m \u001b[0my_train\u001b[0m\u001b[1;33m)\u001b[0m\u001b[1;33m\u001b[0m\u001b[1;33m\u001b[0m\u001b[0m\n\u001b[0m\u001b[0;32m      5\u001b[0m \u001b[0mresult\u001b[0m \u001b[1;33m=\u001b[0m \u001b[0mbayes\u001b[0m\u001b[1;33m.\u001b[0m\u001b[0mpredict\u001b[0m\u001b[1;33m(\u001b[0m\u001b[0mX_test\u001b[0m\u001b[1;33m)\u001b[0m\u001b[1;33m\u001b[0m\u001b[1;33m\u001b[0m\u001b[0m\n\u001b[0;32m      6\u001b[0m \u001b[0mprint\u001b[0m\u001b[1;33m(\u001b[0m\u001b[0maccuracy\u001b[0m\u001b[1;33m(\u001b[0m\u001b[0mnp\u001b[0m\u001b[1;33m.\u001b[0m\u001b[0marray\u001b[0m\u001b[1;33m(\u001b[0m\u001b[0mresult\u001b[0m\u001b[1;33m)\u001b[0m\u001b[1;33m,\u001b[0m \u001b[0my_test\u001b[0m\u001b[1;33m)\u001b[0m\u001b[1;33m)\u001b[0m\u001b[1;33m\u001b[0m\u001b[1;33m\u001b[0m\u001b[0m\n",
      "\u001b[1;31mTypeError\u001b[0m: train() missing 1 required positional argument: 'type_dict'"
     ],
     "ename": "TypeError",
     "evalue": "train() missing 1 required positional argument: 'type_dict'",
     "output_type": "error"
    }
   ],
   "source": [
    "X_train, X_test, y_train, y_test = train_test_split(X,y)\n",
    "bayes = BayesClassifier()\n",
    "bayes.train(X_train, y_train)\n",
    "result = bayes.predict(X_test)\n",
    "print(accuracy(np.array(result), y_test))"
   ]
  },
  {
   "cell_type": "code",
   "execution_count": null,
   "metadata": {
    "pycharm": {
     "is_executing": false
    }
   },
   "outputs": [],
   "source": [
    "data_set =\"./datasets/lymphography.data\"\n",
    "data = read_data(data_set)\n",
    "X, y = preprocess(data,1)\n"
   ]
  },
  {
   "cell_type": "code",
   "execution_count": null,
   "metadata": {
    "pycharm": {
     "is_executing": false
    }
   },
   "outputs": [],
   "source": [
    "X_train, X_test, y_train, y_test = train_test_split(X,y)\n",
    "bayes = BayesClassifier()\n",
    "bayes.train(X_train, y_train)\n",
    "result = bayes.predict(X_test)\n",
    "print(accuracy(np.array(result), y_test))"
   ]
  },
  {
   "cell_type": "raw",
   "metadata": {
    "pycharm": {
     "name": "#%% raw\n"
    }
   },
   "source": []
  },
  {
   "cell_type": "code",
   "execution_count": null,
   "metadata": {
    "pycharm": {
     "name": "#%%\n",
     "is_executing": false
    }
   },
   "outputs": [],
   "source": [
    "data_set =\"./datasets/car.data\"\n",
    "data = read_data(data_set)\n",
    "#data = binning(data)\n",
    "X, y = preprocess(data,1)\n",
    "X_train, X_test, y_train, y_test = train_test_split(X,y)\n",
    "bayes = BayesClassifier()\n",
    "bayes.train(X_train, y_train)\n",
    "result = bayes.predict(X_test)\n",
    "print(accuracy(np.array(result), y_test))"
   ]
  },
  {
   "cell_type": "code",
   "execution_count": 40,
   "metadata": {
    "pycharm": {
     "name": "#%%\n",
     "is_executing": false
    }
   },
   "outputs": [
    {
     "name": "stdout",
     "text": [
      "    0     2     3     4    5     6     7     8     9     10    11    12    13\n",
      "1    1  1.78  2.14  11.2  100  2.65  2.76  0.26  1.28  4.38  1.05  3.40  1050\n",
      "4    1  2.59  2.87  21.0  118  2.80  2.69  0.39  1.82  4.32  1.04  2.93   735\n",
      "6    1  1.87  2.45  14.6   96  2.50  2.52  0.30  1.98  5.25  1.02  3.58  1290\n",
      "8    1  1.64  2.17  14.0   97  2.80  2.98  0.29  1.98  5.20  1.08  2.85  1045\n",
      "10   1  2.16  2.30  18.0  105  2.95  3.32  0.22  2.38  5.75  1.25  3.17  1510\n",
      "1 0 0.4506158251201787\n",
      "1 1 0.763040688585461\n",
      "1 2 0.2323131760462714\n",
      "1 3 3.0260438160196212\n",
      "1 4 10.825351509032751\n",
      "1 5 0.35087357966590044\n",
      "1 6 0.37966659411788606\n",
      "1 7 0.06612567611765346\n",
      "1 8 0.44346477695907405\n",
      "1 9 1.198548982672609\n",
      "1 10 0.11608313450991517\n",
      "1 11 0.39199768478136393\n",
      "1 12 214.54110886950778\n",
      "2 0 0.4946851642860395\n",
      "2 1 0.9933569151036871\n",
      "2 2 0.32841007364359004\n",
      "2 3 3.513735512940887\n",
      "2 4 17.90004929339253\n",
      "2 5 0.5039430406656036\n",
      "2 6 0.6853126379724117\n",
      "2 7 0.11538613774762428\n",
      "2 8 0.5953900023530465\n",
      "2 9 0.9032038833519044\n",
      "2 10 0.2104981952323545\n",
      "2 11 0.469240437553387\n",
      "2 12 160.97158682421528\n",
      "3 0 0.522145921784671\n",
      "3 1 1.0917459779193284\n",
      "3 2 0.17544801958345838\n",
      "3 3 2.288289522633432\n",
      "3 4 10.287348805914252\n",
      "3 5 0.3181197720889718\n",
      "3 6 0.2789767558472037\n",
      "3 7 0.11767958552138451\n",
      "3 8 0.40006533557316953\n",
      "3 9 2.2889186697071873\n",
      "3 10 0.11302738338092852\n",
      "3 11 0.2772627295763374\n",
      "3 12 107.70879124807415\n",
      "0.9661016949152542\n"
     ],
     "output_type": "stream"
    }
   ],
   "source": [
    "data_set =\"./datasets/wine.data\"\n",
    "data = read_data(data_set)\n",
    "#data = binning(data)\n",
    "X, y = preprocess(data,0)\n",
    "print(X_train.head())\n",
    "X_train, X_test, y_train, y_test = train_test_split(X,y)\n",
    "bayes = BayesClassifier()\n",
    "bayes.train(X_train, y_train)\n",
    "result = bayes.predict(X_test)\n",
    "print(accuracy(np.array(result), y_test))"
   ]
  },
  {
   "cell_type": "code",
   "execution_count": null,
   "metadata": {
    "pycharm": {
     "name": "#%%\n",
     "is_executing": false
    }
   },
   "outputs": [],
   "source": [
    "data_set =\"./datasets/mushroom.data\"\n",
    "data = read_data(data_set)\n",
    "X, y = preprocess(data,1)\n",
    "X_train, X_test, y_train, y_test = train_test_split(X,y)\n",
    "bayes = BayesClassifier()\n",
    "bayes.train(X_train, y_train)\n",
    "result = bayes.predict(X_test)\n",
    "baseline = random_baseline(X_test, y_test)\n",
    "\n",
    "print(accuracy(np.array(result), y_test))\n",
    "print(accuracy(np.array(baseline), y_test))"
   ]
  },
  {
   "cell_type": "code",
   "execution_count": 53,
   "outputs": [
    {
     "name": "stdout",
     "text": [
      "defaultdict(<class 'list'>, {'nominal': [0, 1, 2, 7, 9, 12, 13, 14, 15], 'numeric': [3, 4, 5, 6, 8, 10, 11]})\n",
      "defaultdict(<function BayesClassifier.compute_numeric.<locals>.<lambda> at 0x000001B0101969D8>, {4: defaultdict(<class 'dict'>, {'mean': {1: 0.6666666666666666, 2: 0.5412068181818183, 3: 0.5357882624999999, 4: 0.5100800000000001, 5: 0.562667}, 'std': {1: 0.2516611478423583, 2: 0.22709016888381506, 3: 0.1620805762490025, 4: 0.11263650172591758, 5: 0.1488128429381461}}), 5: defaultdict(<class 'dict'>, {'mean': {1: 12.666666666666666, 2: 11.545454545454545, 3: 12.55, 4: 11.301775128205128, 5: 23.4}, 'std': {1: 10.692676621563626, 2: 5.933980216694458, 3: 5.867524870102029, 4: 6.647352052748393, 5: 27.407217216557314}}), 6: defaultdict(<class 'dict'>, {'mean': {1: 150.0, 2: 442.8636363636364, 3: 500.15, 4: 463.35897435897436, 5: 487.2}, 'std': {1: 259.8076211353316, 2: 191.98593585755066, 3: 142.7757469742344, 4: 187.391721321869, 5: 175.76360386736627}}), 11: defaultdict(<class 'dict'>, {'mean': {1: 28.333333333333332, 2: 70.45454545454545, 3: 59.1875, 4: 59.48717948717949, 5: 55.0}, 'std': {1: 18.929694486000912, 2: 13.879506210261683, 3: 20.038629624183134, 4: 25.975567259771953, 5: 25.385910352879694}})})\n"
     ],
     "output_type": "stream"
    },
    {
     "traceback": [
      "\u001b[1;31m---------------------------------------------------------------------------\u001b[0m",
      "\u001b[1;31mKeyError\u001b[0m                                  Traceback (most recent call last)",
      "\u001b[1;32m<ipython-input-53-605ba605951b>\u001b[0m in \u001b[0;36m<module>\u001b[1;34m\u001b[0m\n\u001b[0;32m     21\u001b[0m \u001b[0mprint\u001b[0m\u001b[1;33m(\u001b[0m\u001b[0mtype_dict\u001b[0m\u001b[1;33m)\u001b[0m\u001b[1;33m\u001b[0m\u001b[1;33m\u001b[0m\u001b[0m\n\u001b[0;32m     22\u001b[0m \u001b[0mbayes\u001b[0m\u001b[1;33m.\u001b[0m\u001b[0mtrain\u001b[0m\u001b[1;33m(\u001b[0m\u001b[0mX_train\u001b[0m\u001b[1;33m,\u001b[0m \u001b[0my_train\u001b[0m\u001b[1;33m,\u001b[0m \u001b[0mtype_dict\u001b[0m\u001b[1;33m)\u001b[0m\u001b[1;33m\u001b[0m\u001b[1;33m\u001b[0m\u001b[0m\n\u001b[1;32m---> 23\u001b[1;33m \u001b[0mresult\u001b[0m \u001b[1;33m=\u001b[0m \u001b[0mbayes\u001b[0m\u001b[1;33m.\u001b[0m\u001b[0mpredict\u001b[0m\u001b[1;33m(\u001b[0m\u001b[0mX_test\u001b[0m\u001b[1;33m)\u001b[0m\u001b[1;33m\u001b[0m\u001b[1;33m\u001b[0m\u001b[0m\n\u001b[0m\u001b[0;32m     24\u001b[0m \u001b[0mbaseline\u001b[0m \u001b[1;33m=\u001b[0m \u001b[0mrandom_baseline\u001b[0m\u001b[1;33m(\u001b[0m\u001b[0mX_test\u001b[0m\u001b[1;33m,\u001b[0m \u001b[0my_test\u001b[0m\u001b[1;33m)\u001b[0m\u001b[1;33m\u001b[0m\u001b[1;33m\u001b[0m\u001b[0m\n\u001b[0;32m     25\u001b[0m \u001b[1;33m\u001b[0m\u001b[0m\n",
      "\u001b[1;32m<ipython-input-51-8051171ef8ac>\u001b[0m in \u001b[0;36mpredict\u001b[1;34m(self, X_test)\u001b[0m\n\u001b[0;32m     99\u001b[0m                     \u001b[1;31m#calculate the numeric conditional probabily\u001b[0m\u001b[1;33m\u001b[0m\u001b[1;33m\u001b[0m\u001b[1;33m\u001b[0m\u001b[0m\n\u001b[0;32m    100\u001b[0m                     \u001b[1;32mif\u001b[0m \u001b[0mcolumn_index\u001b[0m \u001b[1;32min\u001b[0m \u001b[0mself\u001b[0m\u001b[1;33m.\u001b[0m\u001b[0mtype_dict\u001b[0m\u001b[1;33m[\u001b[0m\u001b[1;34m'numeric'\u001b[0m\u001b[1;33m]\u001b[0m\u001b[1;33m:\u001b[0m\u001b[1;33m\u001b[0m\u001b[1;33m\u001b[0m\u001b[0m\n\u001b[1;32m--> 101\u001b[1;33m                         \u001b[0mconditional_probability\u001b[0m \u001b[1;33m=\u001b[0m \u001b[0mself\u001b[0m\u001b[1;33m.\u001b[0m\u001b[0mguassian\u001b[0m\u001b[1;33m(\u001b[0m\u001b[0mvalue\u001b[0m\u001b[1;33m,\u001b[0m \u001b[0mnumeric_prob\u001b[0m\u001b[1;33m[\u001b[0m\u001b[0mcolumn_index\u001b[0m\u001b[1;33m]\u001b[0m\u001b[1;33m[\u001b[0m\u001b[1;34m'mean'\u001b[0m\u001b[1;33m]\u001b[0m\u001b[1;33m[\u001b[0m\u001b[0mlabel\u001b[0m\u001b[1;33m]\u001b[0m\u001b[1;33m,\u001b[0m \u001b[0mnumeric_prob\u001b[0m\u001b[1;33m[\u001b[0m\u001b[0mcolumn_index\u001b[0m\u001b[1;33m]\u001b[0m\u001b[1;33m[\u001b[0m\u001b[1;34m'std'\u001b[0m\u001b[1;33m]\u001b[0m\u001b[1;33m[\u001b[0m\u001b[0mlabel\u001b[0m\u001b[1;33m]\u001b[0m\u001b[1;33m)\u001b[0m\u001b[1;33m\u001b[0m\u001b[1;33m\u001b[0m\u001b[0m\n\u001b[0m\u001b[0;32m    102\u001b[0m \u001b[1;33m\u001b[0m\u001b[0m\n\u001b[0;32m    103\u001b[0m                     \u001b[1;32melif\u001b[0m \u001b[0mcolumn_index\u001b[0m \u001b[1;32min\u001b[0m \u001b[0mself\u001b[0m\u001b[1;33m.\u001b[0m\u001b[0mtype_dict\u001b[0m\u001b[1;33m[\u001b[0m\u001b[1;34m'nominal'\u001b[0m\u001b[1;33m]\u001b[0m\u001b[1;33m:\u001b[0m\u001b[1;33m\u001b[0m\u001b[1;33m\u001b[0m\u001b[0m\n",
      "\u001b[1;31mKeyError\u001b[0m: 1"
     ],
     "ename": "KeyError",
     "evalue": "1",
     "output_type": "error"
    }
   ],
   "source": [
    "#random_baseline\n",
    "data_set =\"./datasets/university.data\"\n",
    "data = read_data(data_set)\n",
    "X, y = preprocess(data,14)\n",
    "X_train, X_test, y_train, y_test = train_test_split(X,y)\n",
    "# result = random_baseline(X_test, y_test)\n",
    "\n",
    "bayes = BayesClassifier()\n",
    "type_dict=defaultdict(list)\n",
    "type_list = [0, 0, 1, 2, 2, 2, 2, 1, 2, 1, 2, 2, 1, 1, 1, 0]\n",
    "for index, type in enumerate(type_list):\n",
    "    if (type==0):\n",
    "        type_dict[\"nominal\"].append(index)\n",
    "    elif type==1:\n",
    "        type_dict[\"nominal\"].append(index)    \n",
    "        # type_dict[\"numeric\"].append(index)    \n",
    "    else:\n",
    "        type_dict[\"numeric\"].append(index)\n",
    "\n",
    "print(type_dict)\n",
    "bayes.train(X_train, y_train, type_dict)\n",
    "result = bayes.predict(X_test)\n",
    "baseline = random_baseline(X_test, y_test)\n",
    "\n",
    "print(accuracy(np.array(result), y_test))\n",
    "\n"
   ],
   "metadata": {
    "collapsed": false,
    "pycharm": {
     "name": "#%%\n",
     "is_executing": false
    }
   }
  },
  {
   "cell_type": "code",
   "execution_count": 42,
   "metadata": {
    "pycharm": {
     "is_executing": false,
     "name": "#%%\n"
    }
   },
   "outputs": [],
   "source": [
    "def random_baseline(X_train, y_train):\n",
    "    labels = np.unique(y_train)\n",
    "    y_baseline = [np.random.choice(labels) for i in range(len(y_train))]\n",
    "    return y_baseline"
   ]
  },
  {
   "cell_type": "code",
   "execution_count": null,
   "metadata": {
    "pycharm": {
     "is_executing": false,
     "name": "#%%\n"
    }
   },
   "outputs": [],
   "source": [
    "def zero_r_baseline(X_train, y_train):\n",
    "    label = mode(y_train)\n",
    "    return np.repeat(label, len(y_train))"
   ]
  },
  {
   "cell_type": "code",
   "execution_count": null,
   "metadata": {
    "pycharm": {
     "is_executing": false,
     "name": "#%%\n"
    }
   },
   "outputs": [],
   "source": [
    "def label_confusion_matrix(y_predicted, y_truth, label):\n",
    "    TP = 0\n",
    "    TN = 0\n",
    "    FP = 0\n",
    "    FN = 0\n",
    "    for index in range(y_predicted.size):\n",
    "        result =  y_predicted[index]\n",
    "        if (result==label):\n",
    "            if ((y_truth[index]) == label):\n",
    "                TP +=1\n",
    "            else:\n",
    "                FP +=1\n",
    "        else:\n",
    "            if ((y_truth[index]) == label):\n",
    "                FN += 1\n",
    "            else:\n",
    "                TN += 1\n",
    "    return TP, TN, FP, FN\n",
    "                \n",
    "  \n",
    "(TP, TN, FP, FN) = label_confusion_matrix(np.array([1, 0, 0, 1, 2]), np.array([1, 0, 1, 0, 2]), 2)  \n",
    "print(TP, TN, FP, FN)  "
   ]
  },
  {
   "cell_type": "markdown",
   "metadata": {
    "pycharm": {
     "name": "#%% md\n"
    }
   },
   "source": [
    "## Questions \n",
    "\n",
    "\n",
    "If you are in a group of 1, you will respond to question (1), and **one** other of your choosing (two responses in total).\n",
    "\n",
    "If you are in a group of 2, you will respond to question (1) and question (2), and **two** others of your choosing (four responses in total). \n",
    "\n",
    "A response to a question should take about 100–250 words, and make reference to the data wherever possible.\n",
    "\n",
    "#### NOTE: you may develope codes or functions in respond to the question, but your formal answer should be added to a separate file."
   ]
  },
  {
   "cell_type": "raw",
   "metadata": {},
   "source": [
    "1. Try discretising the numeric attributes in these datasets and treating them as discrete variables\n",
    "in the na¨ıve Bayes classifier. You can use a discretisation method of your choice and group the\n",
    "numeric values into any number of levels (but around 3 to 5 levels would probably be a good\n",
    "starting point). Does discretizing the variables improve classification performance, compared\n",
    "to the Gaussian na¨ıve Bayes approach? Why or why not?"
   ]
  },
  {
   "cell_type": "raw",
   "metadata": {},
   "source": [
    "Discretizing "
   ]
  },
  {
   "cell_type": "raw",
   "metadata": {},
   "source": [
    "2. Implement a baseline model (e.g., random or 0R) and compare the performance of the na¨ıve\n",
    "Bayes classifier to this baseline on multiple datasets. Discuss why the baseline performance\n",
    "varies across datasets, and to what extent the na¨ıve Bayes classifier improves on the baseline\n",
    "performance."
   ]
  },
  {
   "cell_type": "code",
   "execution_count": null,
   "metadata": {
    "pycharm": {
     "is_executing": false
    }
   },
   "outputs": [],
   "source": []
  },
  {
   "cell_type": "raw",
   "metadata": {},
   "source": [
    "3. Since it’s difficult to model the probabilities of ordinal data, ordinal attributes are often treated as\n",
    "either nominal variables or numeric variables. Compare these strategies on the ordinal datasets\n",
    "provided. Deterimine which approach gives higher classification accuracy and discuss why."
   ]
  },
  {
   "cell_type": "code",
   "execution_count": null,
   "metadata": {
    "pycharm": {
     "is_executing": false
    }
   },
   "outputs": [],
   "source": []
  },
  {
   "cell_type": "raw",
   "metadata": {},
   "source": [
    "4. Evaluating the model on the same data that we use to train the model is considered to be a major\n",
    "mistake in Machine Learning. Implement a hold–out or cross–validation evaluation strategy\n",
    "(you should implement this yourself and do not simply call existing implementations from\n",
    "scikit-learn). How does your estimate of effectiveness change, compared to testing on\n",
    "the training data? Explain why. (The result might surprise you!)"
   ]
  },
  {
   "cell_type": "raw",
   "metadata": {},
   "source": [
    "1. can do a before and after scatter plot\n"
   ]
  }
 ],
 "metadata": {
  "kernelspec": {
   "display_name": "Python 3",
   "language": "python",
   "name": "python3"
  },
  "language_info": {
   "codemirror_mode": {
    "name": "ipython",
    "version": 3
   },
   "file_extension": ".py",
   "mimetype": "text/x-python",
   "name": "python",
   "nbconvert_exporter": "python",
   "pygments_lexer": "ipython3",
   "version": "3.7.3"
  },
  "pycharm": {
   "stem_cell": {
    "cell_type": "raw",
    "source": [],
    "metadata": {
     "collapsed": false
    }
   }
  }
 },
 "nbformat": 4,
 "nbformat_minor": 4
}