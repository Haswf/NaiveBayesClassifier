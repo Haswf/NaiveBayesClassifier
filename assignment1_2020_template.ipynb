{
 "cells": [
  {
   "cell_type": "markdown",
   "metadata": {},
   "source": [
    "\n",
    "### The University of Melbourne, School of Computing and Information Systems\n",
    "# COMP30027 Machine Learning, 2020 Semester 1\n",
    "\n",
    "## Assignment 1: Naive Bayes Classifiers\n",
    "\n",
    "###### Submission deadline: 7 pm, Monday 20 Apr 2020"
   ]
  },
  {
   "cell_type": "markdown",
   "metadata": {},
   "source": [
    "**Student Name(s):**    Shuyang Fan, Yiran Wang \n",
    "\n",
    "**Student ID(s):**     988301, 987751\n"
   ]
  },
  {
   "cell_type": "markdown",
   "metadata": {},
   "source": [
    "This iPython notebook is a template which you will use for your Assignment 1 submission.\n",
    "\n",
    "Marking will be applied on the four functions that are defined in this notebook, and to your responses to the questions at the end of this notebook (Submitted in a separate PDF file).\n",
    "\n",
    "**NOTE: YOU SHOULD ADD YOUR RESULTS, DIAGRAMS AND IMAGES FROM YOUR OBSERVATIONS IN THIS FILE TO YOUR REPORT (the PDF file).**\n",
    "\n",
    "You may change the prototypes of these functions, and you may write other functions, according to your requirements. We would appreciate it if the required functions were prominent/easy to find.\n",
    "\n",
    "**Adding proper comments to your code is MANDATORY. **"
   ]
  },
  {
   "cell_type": "code",
   "execution_count": 62,
   "outputs": [],
   "source": [
    "import pandas as pd\n",
    "import math\n",
    "import numpy as np\n",
    "from pandas.api.types import is_numeric_dtype"
   ],
   "metadata": {
    "collapsed": false,
    "pycharm": {
     "name": "#%%\n",
     "is_executing": false
    }
   }
  },
  {
   "cell_type": "code",
   "execution_count": 6,
   "outputs": [],
   "source": [
    "def read_data(fileName):\n",
    "    data = pd.read_csv(fileName, header=None)\n",
    "    X = data.iloc[:,:-1]\n",
    "    Y = data.iloc[:,-1]\n",
    "    # print(X.head(5))\n",
    "    # print(Y.head(5))\n",
    "    return X, Y\n"
   ],
   "metadata": {
    "collapsed": false,
    "pycharm": {
     "name": "#%%\n",
     "is_executing": false
    }
   }
  },
  {
   "cell_type": "markdown",
   "source": [
    "# Train Test Split"
   ],
   "metadata": {
    "collapsed": false,
    "pycharm": {
     "name": "#%% md\n"
    }
   }
  },
  {
   "cell_type": "code",
   "execution_count": 10,
   "outputs": [],
   "source": [
    "(X, Y) = read_data(\"./datasets/adult.data\")\n",
    "\n",
    "def train_test_split(X, y, test_size=0.2):\n",
    "    X_total = X.shape[0]\n",
    "    assert(X_total == Y.size)\n",
    "    arr_rand = np.random.rand(X.shape[0])\n",
    "    split = arr_rand < np.percentile(arr_rand, test_size*100)\n",
    "    X_train = X[split]\n",
    "    y_train = y[split]\n",
    "    X_test =  X[~split]\n",
    "    y_test = y[~split]\n",
    "    return X_train, X_test, y_train, y_test\n",
    "\n",
    "(X_train, X_test, y_train, y_test) = train_test_split(X,Y)"
   ],
   "metadata": {
    "collapsed": false,
    "pycharm": {
     "name": "#%%\n",
     "is_executing": false
    }
   }
  },
  {
   "cell_type": "code",
   "execution_count": 10,
   "metadata": {
    "collapsed": true,
    "pycharm": {
     "is_executing": false
    }
   },
   "outputs": [],
   "source": []
  },
  {
   "cell_type": "code",
   "execution_count": 63,
   "outputs": [
    {
     "data": {
      "text/plain": "             0                 1                     2          3   \\\n0  (38.9, 46.2]         State-gov  (10812.58, 159527.0]  Bachelors   \n1  (46.2, 53.5]  Self-emp-not-inc  (10812.58, 159527.0]  Bachelors   \n2  (31.6, 38.9]           Private  (159527.0, 306769.0]    HS-grad   \n3  (46.2, 53.5]           Private  (159527.0, 306769.0]       11th   \n4  (24.3, 31.6]           Private  (306769.0, 454011.0]  Bachelors   \n\n             4                   5                  6              7      8   \\\n0  (11.5, 13.0]       Never-married       Adm-clerical  Not-in-family  White   \n1  (11.5, 13.0]  Married-civ-spouse    Exec-managerial        Husband  White   \n2   (8.5, 10.0]            Divorced  Handlers-cleaners  Not-in-family  White   \n3    (5.5, 7.0]  Married-civ-spouse  Handlers-cleaners        Husband  Black   \n4  (11.5, 13.0]  Married-civ-spouse     Prof-specialty           Wife  Black   \n\n       9                  10               11            12             13  \n0    Male  (-99.999, 9999.9]  (-4.356, 435.6]  (30.4, 40.2]  United-States  \n1    Male  (-99.999, 9999.9]  (-4.356, 435.6]  (10.8, 20.6]  United-States  \n2    Male  (-99.999, 9999.9]  (-4.356, 435.6]  (30.4, 40.2]  United-States  \n3    Male  (-99.999, 9999.9]  (-4.356, 435.6]  (30.4, 40.2]  United-States  \n4  Female  (-99.999, 9999.9]  (-4.356, 435.6]  (30.4, 40.2]           Cuba  ",
      "text/html": "<div>\n<style scoped>\n    .dataframe tbody tr th:only-of-type {\n        vertical-align: middle;\n    }\n\n    .dataframe tbody tr th {\n        vertical-align: top;\n    }\n\n    .dataframe thead th {\n        text-align: right;\n    }\n</style>\n<table border=\"1\" class=\"dataframe\">\n  <thead>\n    <tr style=\"text-align: right;\">\n      <th></th>\n      <th>0</th>\n      <th>1</th>\n      <th>2</th>\n      <th>3</th>\n      <th>4</th>\n      <th>5</th>\n      <th>6</th>\n      <th>7</th>\n      <th>8</th>\n      <th>9</th>\n      <th>10</th>\n      <th>11</th>\n      <th>12</th>\n      <th>13</th>\n    </tr>\n  </thead>\n  <tbody>\n    <tr>\n      <th>0</th>\n      <td>(38.9, 46.2]</td>\n      <td>State-gov</td>\n      <td>(10812.58, 159527.0]</td>\n      <td>Bachelors</td>\n      <td>(11.5, 13.0]</td>\n      <td>Never-married</td>\n      <td>Adm-clerical</td>\n      <td>Not-in-family</td>\n      <td>White</td>\n      <td>Male</td>\n      <td>(-99.999, 9999.9]</td>\n      <td>(-4.356, 435.6]</td>\n      <td>(30.4, 40.2]</td>\n      <td>United-States</td>\n    </tr>\n    <tr>\n      <th>1</th>\n      <td>(46.2, 53.5]</td>\n      <td>Self-emp-not-inc</td>\n      <td>(10812.58, 159527.0]</td>\n      <td>Bachelors</td>\n      <td>(11.5, 13.0]</td>\n      <td>Married-civ-spouse</td>\n      <td>Exec-managerial</td>\n      <td>Husband</td>\n      <td>White</td>\n      <td>Male</td>\n      <td>(-99.999, 9999.9]</td>\n      <td>(-4.356, 435.6]</td>\n      <td>(10.8, 20.6]</td>\n      <td>United-States</td>\n    </tr>\n    <tr>\n      <th>2</th>\n      <td>(31.6, 38.9]</td>\n      <td>Private</td>\n      <td>(159527.0, 306769.0]</td>\n      <td>HS-grad</td>\n      <td>(8.5, 10.0]</td>\n      <td>Divorced</td>\n      <td>Handlers-cleaners</td>\n      <td>Not-in-family</td>\n      <td>White</td>\n      <td>Male</td>\n      <td>(-99.999, 9999.9]</td>\n      <td>(-4.356, 435.6]</td>\n      <td>(30.4, 40.2]</td>\n      <td>United-States</td>\n    </tr>\n    <tr>\n      <th>3</th>\n      <td>(46.2, 53.5]</td>\n      <td>Private</td>\n      <td>(159527.0, 306769.0]</td>\n      <td>11th</td>\n      <td>(5.5, 7.0]</td>\n      <td>Married-civ-spouse</td>\n      <td>Handlers-cleaners</td>\n      <td>Husband</td>\n      <td>Black</td>\n      <td>Male</td>\n      <td>(-99.999, 9999.9]</td>\n      <td>(-4.356, 435.6]</td>\n      <td>(30.4, 40.2]</td>\n      <td>United-States</td>\n    </tr>\n    <tr>\n      <th>4</th>\n      <td>(24.3, 31.6]</td>\n      <td>Private</td>\n      <td>(306769.0, 454011.0]</td>\n      <td>Bachelors</td>\n      <td>(11.5, 13.0]</td>\n      <td>Married-civ-spouse</td>\n      <td>Prof-specialty</td>\n      <td>Wife</td>\n      <td>Black</td>\n      <td>Female</td>\n      <td>(-99.999, 9999.9]</td>\n      <td>(-4.356, 435.6]</td>\n      <td>(30.4, 40.2]</td>\n      <td>Cuba</td>\n    </tr>\n  </tbody>\n</table>\n</div>"
     },
     "metadata": {},
     "output_type": "execute_result",
     "execution_count": 63
    }
   ],
   "source": [
    "def preprocess():\n",
    "    print(\"Hello World\")\n",
    "    return\n",
    "\n",
    "# This function should prepare the data by reading it from a file and converting it into a useful format for training and testing\n",
    "def discretizer(X, column_index, bin_size):\n",
    "    for index, column in enumerate(column_index):\n",
    "        X.iloc[:,column] = pd.cut(X.iloc[:,column], bin_size[index])\n",
    "\n",
    "(X, Y) = read_data(\"./datasets/adult.data\")       \n",
    "\n",
    "\n",
    "numeric_column = []\n",
    "\n",
    "for column in range(X.shape[1]):\n",
    "    if (is_numeric_dtype(X.iloc[:,column])):\n",
    "        numeric_column.append(column)\n",
    "        \n",
    "discretizer(X, numeric_column, [10 for i in range(len(numeric_column))])\n",
    "X.head()"
   ],
   "metadata": {
    "collapsed": false,
    "pycharm": {
     "name": "#%%\n",
     "is_executing": false
    }
   }
  },
  {
   "cell_type": "code",
   "execution_count": 12,
   "outputs": [
    {
     "data": {
      "text/plain": "{'<=50K': 0.7590601965601965, '>50K': 0.24093980343980345}"
     },
     "metadata": {},
     "output_type": "execute_result",
     "execution_count": 12
    }
   ],
   "source": [
    "def get_prior(y_train):\n",
    "    train_inputs = y_train\n",
    "    labels, counts = np.unique(train_inputs, return_counts=True)\n",
    "    prior = {}\n",
    "    for i, label in enumerate(labels):\n",
    "        prior[label] = float(counts[i])/len(train_inputs)\n",
    "    return prior      \n",
    "\n",
    "X_train, X_test, y_train, y_test = train_test_split(X,Y)\n",
    "get_prior(y_train)"
   ],
   "metadata": {
    "collapsed": false,
    "pycharm": {
     "name": "#%%\n",
     "is_executing": false
    }
   }
  },
  {
   "cell_type": "code",
   "execution_count": 12,
   "outputs": [],
   "source": [],
   "metadata": {
    "collapsed": false,
    "pycharm": {
     "name": "#%%\n",
     "is_executing": false
    }
   }
  },
  {
   "cell_type": "code",
   "execution_count": 13,
   "metadata": {
    "collapsed": true,
    "pycharm": {
     "is_executing": false
    }
   },
   "outputs": [
    {
     "name": "stdout",
     "text": [
      "       0                 1       2             3   4                   5   \\\n",
      "1      50  Self-emp-not-inc   83311     Bachelors  13  Married-civ-spouse   \n",
      "21     54           Private  302146       HS-grad   9           Separated   \n",
      "26     19           Private  168294       HS-grad   9       Never-married   \n",
      "31     20           Private  266015  Some-college  10       Never-married   \n",
      "33     30       Federal-gov   59951  Some-college  10  Married-civ-spouse   \n",
      "40     31           Private  507875           9th   5  Married-civ-spouse   \n",
      "43     49           Private   94638       HS-grad   9           Separated   \n",
      "54     47      Self-emp-inc  109832       HS-grad   9            Divorced   \n",
      "66     28           Private  183175  Some-college  10            Divorced   \n",
      "79     31         Local-gov  125927       7th-8th   4  Married-civ-spouse   \n",
      "88     30           Private   54334           9th   5       Never-married   \n",
      "92     28           Private  212563  Some-college  10            Divorced   \n",
      "106    17                 ?  304873          10th   6       Never-married   \n",
      "110    24           Private  432376     Bachelors  13       Never-married   \n",
      "113    28           Private  377869  Some-college  10  Married-civ-spouse   \n",
      "119    22           Private  102632       HS-grad   9       Never-married   \n",
      "120    21           Private  199915  Some-college  10       Never-married   \n",
      "126    20           Private  111697  Some-college  10       Never-married   \n",
      "131    24           Private   43323       HS-grad   9       Never-married   \n",
      "145    31           Private  185814       HS-grad   9       Never-married   \n",
      "148    64           Private  181232          11th   7  Married-civ-spouse   \n",
      "150    47         Local-gov  186009  Some-college  10            Divorced   \n",
      "151    34           Private  198183       HS-grad   9       Never-married   \n",
      "153    21           Private  296158       HS-grad   9       Never-married   \n",
      "162    44      Self-emp-inc   78374       Masters  14            Divorced   \n",
      "171    28         State-gov  175325       HS-grad   9  Married-civ-spouse   \n",
      "173    27           Private  428030     Bachelors  13       Never-married   \n",
      "181    43           Private  114580  Some-college  10            Divorced   \n",
      "192    41         Local-gov  523910     Bachelors  13  Married-civ-spouse   \n",
      "212    35           Private  153790  Some-college  10       Never-married   \n",
      "...    ..               ...     ...           ...  ..                 ...   \n",
      "32387  20           Private  176321  Some-college  10       Never-married   \n",
      "32393  43           Private  191712     Bachelors  13       Never-married   \n",
      "32396  56           Private  135458       HS-grad   9            Divorced   \n",
      "32404  35           Private  379959       HS-grad   9            Divorced   \n",
      "32413  45           Private  199590       5th-6th   3  Married-civ-spouse   \n",
      "32414  29           Private   83742       HS-grad   9            Divorced   \n",
      "32420  23           Private   45834     Bachelors  13       Never-married   \n",
      "32424  35           Private  102268     Bachelors  13  Married-civ-spouse   \n",
      "32426  20                 ?  203992       HS-grad   9       Never-married   \n",
      "32448  61           Private  137554       7th-8th   4  Married-civ-spouse   \n",
      "32450  38           Private  257416           9th   5  Married-civ-spouse   \n",
      "32451  40           Private  195617  Some-college  10           Separated   \n",
      "32467  55           Private  199713           9th   5  Married-civ-spouse   \n",
      "32470  50           Private  485710     Doctorate  16            Divorced   \n",
      "32471  28           Private  185647  Some-college  10            Divorced   \n",
      "32475  22           Private   67234       HS-grad   9       Never-married   \n",
      "32481  52           Private  301229     Assoc-voc  11           Separated   \n",
      "32488  32           Private  164190  Some-college  10       Never-married   \n",
      "32496  18           Private  436163          11th   7       Never-married   \n",
      "32508  45           Private  155093          10th   6            Divorced   \n",
      "32514  40           Private  142657     Assoc-voc  11  Married-civ-spouse   \n",
      "32522  58           Private  147707          11th   7  Married-civ-spouse   \n",
      "32523  30           Private   77266       HS-grad   9            Divorced   \n",
      "32526  32           Private  211349          10th   6  Married-civ-spouse   \n",
      "32527  22           Private  203715  Some-college  10       Never-married   \n",
      "32546  37           Private  198216    Assoc-acdm  12            Divorced   \n",
      "32551  32           Private   34066          10th   6  Married-civ-spouse   \n",
      "32556  27           Private  257302    Assoc-acdm  12  Married-civ-spouse   \n",
      "32558  58           Private  151910       HS-grad   9             Widowed   \n",
      "32559  22           Private  201490       HS-grad   9       Never-married   \n",
      "\n",
      "                      6               7                   8       9      10  \\\n",
      "1        Exec-managerial         Husband               White    Male      0   \n",
      "21         Other-service       Unmarried               Black  Female      0   \n",
      "26          Craft-repair       Own-child               White    Male      0   \n",
      "31                 Sales       Own-child               Black    Male      0   \n",
      "33          Adm-clerical       Own-child               White    Male      0   \n",
      "40     Machine-op-inspct         Husband               White    Male      0   \n",
      "43          Adm-clerical       Unmarried               White  Female      0   \n",
      "54       Exec-managerial   Not-in-family               White    Male      0   \n",
      "66          Adm-clerical   Not-in-family               White  Female      0   \n",
      "79       Farming-fishing         Husband               White    Male      0   \n",
      "88                 Sales   Not-in-family               White    Male      0   \n",
      "92     Machine-op-inspct       Unmarried               Black  Female      0   \n",
      "106                    ?       Own-child               White  Female  34095   \n",
      "110                Sales  Other-relative               White    Male      0   \n",
      "113                Sales            Wife               White  Female   4064   \n",
      "119         Craft-repair   Not-in-family               White    Male      0   \n",
      "120        Other-service       Own-child               White  Female      0   \n",
      "126         Adm-clerical       Own-child               White  Female      0   \n",
      "131        Other-service   Not-in-family               White  Female      0   \n",
      "145     Transport-moving       Unmarried               Black  Female      0   \n",
      "148         Craft-repair         Husband               White    Male      0   \n",
      "150         Adm-clerical       Unmarried               White  Female      0   \n",
      "151         Adm-clerical   Not-in-family               White  Female      0   \n",
      "153         Craft-repair       Own-child               White    Male      0   \n",
      "162      Exec-managerial       Unmarried  Asian-Pac-Islander  Female      0   \n",
      "171      Protective-serv         Husband               White    Male      0   \n",
      "173         Craft-repair   Not-in-family               White    Male      0   \n",
      "181         Adm-clerical   Not-in-family               White  Female      0   \n",
      "192         Craft-repair         Husband               Black    Male      0   \n",
      "212                Sales   Not-in-family  Amer-Indian-Eskimo  Female      0   \n",
      "...                  ...             ...                 ...     ...    ...   \n",
      "32387       Adm-clerical  Other-relative               White  Female      0   \n",
      "32393       Adm-clerical   Not-in-family               White    Male      0   \n",
      "32396       Tech-support   Not-in-family               Black  Female      0   \n",
      "32404      Other-service   Not-in-family               White  Female      0   \n",
      "32413  Machine-op-inspct         Husband               White    Male      0   \n",
      "32414      Other-service       Unmarried               White  Female      0   \n",
      "32420    Exec-managerial   Not-in-family               White  Female      0   \n",
      "32424    Exec-managerial         Husband               White    Male      0   \n",
      "32426                  ?       Own-child               White    Male      0   \n",
      "32448       Craft-repair         Husband               White    Male      0   \n",
      "32450   Transport-moving         Husband               Black    Male      0   \n",
      "32451    Exec-managerial       Unmarried               White  Female      0   \n",
      "32467       Craft-repair         Husband               White    Male      0   \n",
      "32470     Prof-specialty   Not-in-family               White  Female      0   \n",
      "32471  Handlers-cleaners   Not-in-family               White    Male      0   \n",
      "32475  Handlers-cleaners       Unmarried               White    Male      0   \n",
      "32481              Sales       Unmarried               White  Female      0   \n",
      "32488    Exec-managerial       Own-child               White    Male      0   \n",
      "32496     Prof-specialty       Own-child               White    Male      0   \n",
      "32508      Other-service   Not-in-family               Black  Female      0   \n",
      "32514       Craft-repair         Husband               Black    Male      0   \n",
      "32522              Sales         Husband               White    Male      0   \n",
      "32523   Transport-moving   Not-in-family               White    Male      0   \n",
      "32526   Transport-moving         Husband               White    Male      0   \n",
      "32527       Adm-clerical       Own-child               White    Male      0   \n",
      "32546       Tech-support   Not-in-family               White  Female      0   \n",
      "32551  Handlers-cleaners         Husband  Amer-Indian-Eskimo    Male      0   \n",
      "32556       Tech-support            Wife               White  Female      0   \n",
      "32558       Adm-clerical       Unmarried               White  Female      0   \n",
      "32559       Adm-clerical       Own-child               White    Male      0   \n",
      "\n",
      "         11  12                  13  \n",
      "1         0  13       United-States  \n",
      "21        0  20       United-States  \n",
      "26        0  40       United-States  \n",
      "31        0  44       United-States  \n",
      "33        0  40       United-States  \n",
      "40        0  43       United-States  \n",
      "43        0  40       United-States  \n",
      "54        0  60       United-States  \n",
      "66        0  40       United-States  \n",
      "79        0  40       United-States  \n",
      "88        0  40       United-States  \n",
      "92        0  25       United-States  \n",
      "106       0  32       United-States  \n",
      "110       0  40       United-States  \n",
      "113       0  25       United-States  \n",
      "119       0  41       United-States  \n",
      "120       0  40       United-States  \n",
      "126    1719  28       United-States  \n",
      "131    1762  40       United-States  \n",
      "145       0  30       United-States  \n",
      "148    2179  40       United-States  \n",
      "150       0  38              Mexico  \n",
      "151       0  40       United-States  \n",
      "153       0  35       United-States  \n",
      "162       0  40       United-States  \n",
      "171       0  40       United-States  \n",
      "173       0  50       United-States  \n",
      "181       0  40       United-States  \n",
      "192       0  40       United-States  \n",
      "212       0  40       United-States  \n",
      "...     ...  ..                 ...  \n",
      "32387     0  20       United-States  \n",
      "32393  1741  40       United-States  \n",
      "32396     0  40       United-States  \n",
      "32404     0  40       United-States  \n",
      "32413     0  40                   ?  \n",
      "32414     0  45       United-States  \n",
      "32420     0  50       United-States  \n",
      "32424     0  45       United-States  \n",
      "32426     0  40       United-States  \n",
      "32448     0  40       United-States  \n",
      "32450     0  40       United-States  \n",
      "32451     0  20       United-States  \n",
      "32467     0  48       United-States  \n",
      "32470     0  50       United-States  \n",
      "32471     0  50       United-States  \n",
      "32475     0  45       United-States  \n",
      "32481     0  40       United-States  \n",
      "32488     0  40       United-States  \n",
      "32496     0  20       United-States  \n",
      "32508     0  38  Dominican-Republic  \n",
      "32514     0  45       United-States  \n",
      "32522     0  40       United-States  \n",
      "32523     0  55       United-States  \n",
      "32526     0  40       United-States  \n",
      "32527     0  40       United-States  \n",
      "32546     0  40       United-States  \n",
      "32551     0  40       United-States  \n",
      "32556     0  38       United-States  \n",
      "32558     0  40       United-States  \n",
      "32559     0  20       United-States  \n",
      "\n",
      "[5001 rows x 14 columns]\n",
      "       0                 1       2             3   4                   5   \\\n",
      "9      42           Private  159449     Bachelors  13  Married-civ-spouse   \n",
      "20     40           Private  193524     Doctorate  16  Married-civ-spouse   \n",
      "25     56         Local-gov  216851     Bachelors  13  Married-civ-spouse   \n",
      "27     54                 ?  180211  Some-college  10  Married-civ-spouse   \n",
      "72     29  Self-emp-not-inc  162298     Bachelors  13  Married-civ-spouse   \n",
      "86     49         Local-gov  268234       HS-grad   9  Married-civ-spouse   \n",
      "89     43       Federal-gov  410867     Doctorate  16       Never-married   \n",
      "125    47           Private  287828     Bachelors  13  Married-civ-spouse   \n",
      "174    28         State-gov  149624     Bachelors  13  Married-civ-spouse   \n",
      "184    37       Federal-gov   29054  Some-college  10  Married-civ-spouse   \n",
      "237    41           Private  180138     Bachelors  13  Married-civ-spouse   \n",
      "285    57       Federal-gov  425161       Masters  14  Married-civ-spouse   \n",
      "399    52      Self-emp-inc  132178     Bachelors  13  Married-civ-spouse   \n",
      "428    63      Self-emp-inc  222289       HS-grad   9  Married-civ-spouse   \n",
      "451    45      Self-emp-inc  197332  Some-college  10  Married-civ-spouse   \n",
      "519    34           Private  108116     Bachelors  13  Married-civ-spouse   \n",
      "524    44           Private  177905  Some-college  10            Divorced   \n",
      "534    67           Private  231559   Prof-school  15  Married-civ-spouse   \n",
      "575    29           Private  350162     Bachelors  13  Married-civ-spouse   \n",
      "633    30           Private  103649     Bachelors  13  Married-civ-spouse   \n",
      "660    44  Self-emp-not-inc  335183          12th   8  Married-civ-spouse   \n",
      "674    50      Self-emp-inc  219420       HS-grad   9  Married-civ-spouse   \n",
      "681    37           Private  161141     Assoc-voc  11  Married-civ-spouse   \n",
      "705    44           Private   63042     Bachelors  13            Divorced   \n",
      "723    50         Local-gov   50459       HS-grad   9  Married-civ-spouse   \n",
      "739    42           Private  279914     Bachelors  13  Married-civ-spouse   \n",
      "750    29         State-gov  356089     Bachelors  13  Married-civ-spouse   \n",
      "763    53      Self-emp-inc  128272     Doctorate  16  Married-civ-spouse   \n",
      "778    43           Private  226902     Bachelors  13  Married-civ-spouse   \n",
      "817    56           Private  186556  Some-college  10  Married-civ-spouse   \n",
      "...    ..               ...     ...           ...  ..                 ...   \n",
      "31990  46         State-gov  250821   Prof-school  15  Married-civ-spouse   \n",
      "31992  45           Private  172822       HS-grad   9  Married-civ-spouse   \n",
      "31996  40  Self-emp-not-inc  170866    Assoc-acdm  12  Married-civ-spouse   \n",
      "32004  42           Private  386175  Some-college  10            Divorced   \n",
      "32012  31       Federal-gov  130057       Masters  14  Married-civ-spouse   \n",
      "32025  50           Private  139703  Some-college  10  Married-civ-spouse   \n",
      "32028  44         Local-gov  203761     Bachelors  13  Married-civ-spouse   \n",
      "32029  36         Local-gov  114719       Masters  14  Married-civ-spouse   \n",
      "32063  30           Private  176410     Assoc-voc  11  Married-civ-spouse   \n",
      "32067  37  Self-emp-not-inc  126675       HS-grad   9  Married-civ-spouse   \n",
      "32092  39           Private   30529     Bachelors  13  Married-civ-spouse   \n",
      "32114  40           Private  137225       Masters  14  Married-civ-spouse   \n",
      "32156  38           Private   59660     Bachelors  13  Married-civ-spouse   \n",
      "32185  52  Self-emp-not-inc  185407     Bachelors  13  Married-civ-spouse   \n",
      "32221  37  Self-emp-not-inc  162834       HS-grad   9  Married-civ-spouse   \n",
      "32234  41           Private  206139       HS-grad   9  Married-civ-spouse   \n",
      "32236  26           Private  323044  Some-college  10  Married-civ-spouse   \n",
      "32238  47           Private  294913   Prof-school  15  Married-civ-spouse   \n",
      "32245  31           Private  188246    Assoc-acdm  12            Divorced   \n",
      "32254  31           Private  251659  Some-college  10  Married-civ-spouse   \n",
      "32267  31           Private  183801       Masters  14  Married-civ-spouse   \n",
      "32271  42         Local-gov  201495  Some-college  10  Married-civ-spouse   \n",
      "32333  37      Self-emp-inc  328466  Some-college  10  Married-civ-spouse   \n",
      "32341  74  Self-emp-not-inc  199136     Bachelors  13             Widowed   \n",
      "32347  36         State-gov  212143     Bachelors  13  Married-civ-spouse   \n",
      "32419  36           Private   66304     Bachelors  13  Married-civ-spouse   \n",
      "32462  48      Self-emp-inc  185041       HS-grad   9  Married-civ-spouse   \n",
      "32464  45      Self-emp-inc  173664     Bachelors  13  Married-civ-spouse   \n",
      "32506  38           Private   32916     Assoc-voc  11  Married-civ-spouse   \n",
      "32554  53           Private  321865       Masters  14  Married-civ-spouse   \n",
      "\n",
      "                      6              7                   8       9      10  \\\n",
      "9        Exec-managerial        Husband               White    Male   5178   \n",
      "20        Prof-specialty        Husband               White    Male      0   \n",
      "25          Tech-support        Husband               White    Male      0   \n",
      "27                     ?        Husband  Asian-Pac-Islander    Male      0   \n",
      "72                 Sales        Husband               White    Male      0   \n",
      "86       Protective-serv        Husband               White    Male      0   \n",
      "89        Prof-specialty  Not-in-family               White  Female      0   \n",
      "125      Exec-managerial           Wife               White  Female      0   \n",
      "174       Prof-specialty        Husband               White    Male      0   \n",
      "184         Adm-clerical        Husband               White    Male      0   \n",
      "237      Exec-managerial        Husband               White    Male      0   \n",
      "285                Sales        Husband               White    Male  15024   \n",
      "399      Exec-managerial        Husband               White    Male      0   \n",
      "428      Exec-managerial        Husband               White    Male      0   \n",
      "451         Craft-repair        Husband               White    Male      0   \n",
      "519       Prof-specialty        Husband               White    Male      0   \n",
      "524    Machine-op-inspct      Unmarried               White    Male      0   \n",
      "534       Prof-specialty        Husband               White    Male  20051   \n",
      "575      Exec-managerial           Wife               White    Male      0   \n",
      "633         Adm-clerical           Wife               Black  Female      0   \n",
      "660    Handlers-cleaners        Husband               Black    Male      0   \n",
      "674                Sales        Husband               White    Male      0   \n",
      "681         Craft-repair        Husband               White    Male      0   \n",
      "705      Exec-managerial      Own-child               White  Female      0   \n",
      "723      Exec-managerial        Husband               White    Male      0   \n",
      "739         Tech-support        Husband               White    Male      0   \n",
      "750      Exec-managerial        Husband               White    Male   7688   \n",
      "763      Exec-managerial        Husband               White    Male      0   \n",
      "778                Sales        Husband               White    Male      0   \n",
      "817         Craft-repair        Husband               White    Male      0   \n",
      "...                  ...            ...                 ...     ...    ...   \n",
      "31990    Exec-managerial        Husband               White    Male  15024   \n",
      "31992  Machine-op-inspct        Husband               White    Male      0   \n",
      "31996    Farming-fishing        Husband               White    Male      0   \n",
      "32004              Sales  Not-in-family               White    Male      0   \n",
      "32012    Exec-managerial        Husband               White    Male   7688   \n",
      "32025       Craft-repair        Husband               White    Male      0   \n",
      "32028     Prof-specialty        Husband               White    Male      0   \n",
      "32029     Prof-specialty        Husband               White    Male      0   \n",
      "32063     Prof-specialty      Own-child               White  Female   7298   \n",
      "32067    Farming-fishing        Husband               White    Male      0   \n",
      "32092    Exec-managerial        Husband               White    Male      0   \n",
      "32114    Exec-managerial        Husband               White    Male      0   \n",
      "32156              Sales        Husband               White    Male   7298   \n",
      "32185    Exec-managerial        Husband               White    Male      0   \n",
      "32221              Sales        Husband               White    Male      0   \n",
      "32234              Sales        Husband               White    Male      0   \n",
      "32236    Exec-managerial        Husband               White    Male      0   \n",
      "32238    Exec-managerial        Husband               White    Male  99999   \n",
      "32245       Craft-repair  Not-in-family               White    Male      0   \n",
      "32254      Other-service        Husband  Asian-Pac-Islander    Male      0   \n",
      "32267     Prof-specialty        Husband               White    Male      0   \n",
      "32271    Protective-serv        Husband               White    Male      0   \n",
      "32333    Exec-managerial        Husband               White    Male      0   \n",
      "32341       Craft-repair  Not-in-family               White    Male  15831   \n",
      "32347       Adm-clerical           Wife               White  Female      0   \n",
      "32419    Exec-managerial        Husband               White    Male      0   \n",
      "32462       Craft-repair        Husband               White    Male   7298   \n",
      "32464    Exec-managerial        Husband               White    Male      0   \n",
      "32506       Craft-repair        Husband               White    Male      0   \n",
      "32554    Exec-managerial        Husband               White    Male      0   \n",
      "\n",
      "         11  12             13  \n",
      "9         0  40  United-States  \n",
      "20        0  60  United-States  \n",
      "25        0  40  United-States  \n",
      "27        0  60          South  \n",
      "72        0  70  United-States  \n",
      "86        0  40  United-States  \n",
      "89        0  50  United-States  \n",
      "125       0  40  United-States  \n",
      "174       0  40  United-States  \n",
      "184       0  42  United-States  \n",
      "237       0  50           Iran  \n",
      "285       0  40  United-States  \n",
      "399       0  50  United-States  \n",
      "428       0  40  United-States  \n",
      "451       0  55  United-States  \n",
      "519       0  50  United-States  \n",
      "524       0  58  United-States  \n",
      "534       0  48  United-States  \n",
      "575       0  40  United-States  \n",
      "633       0  40  United-States  \n",
      "660       0  40  United-States  \n",
      "674       0  50  United-States  \n",
      "681       0  40       Portugal  \n",
      "705       0  50  United-States  \n",
      "723       0  42  United-States  \n",
      "739       0  40  United-States  \n",
      "750       0  40  United-States  \n",
      "763       0  70  United-States  \n",
      "778       0  50  United-States  \n",
      "817       0  50  United-States  \n",
      "...     ...  ..            ...  \n",
      "31990     0  40  United-States  \n",
      "31992     0  52  United-States  \n",
      "31996     0  50  United-States  \n",
      "32004     0  50  United-States  \n",
      "32012     0  60  United-States  \n",
      "32025     0  40  United-States  \n",
      "32028     0  40  United-States  \n",
      "32029     0  50  United-States  \n",
      "32063     0  16  United-States  \n",
      "32067     0  60  United-States  \n",
      "32092  1887  40  United-States  \n",
      "32114     0  40  United-States  \n",
      "32156     0  40  United-States  \n",
      "32185     0  50  United-States  \n",
      "32221  1902  45  United-States  \n",
      "32234     0  40  United-States  \n",
      "32236     0  45        Germany  \n",
      "32238     0  40  United-States  \n",
      "32245     0  50  United-States  \n",
      "32254  1485  55              ?  \n",
      "32267  1902  43  United-States  \n",
      "32271     0  72  United-States  \n",
      "32333     0  50  United-States  \n",
      "32341     0   8        Germany  \n",
      "32347     0  20  United-States  \n",
      "32419     0  55  United-States  \n",
      "32462     0  50  United-States  \n",
      "32464     0  45  United-States  \n",
      "32506     0  55  United-States  \n",
      "32554     0  40  United-States  \n",
      "\n",
      "[1511 rows x 14 columns]\n"
     ],
     "output_type": "stream"
    }
   ],
   "source": [
    "# This function should calculat prior probabilities and likelihoods from the training data and using\n",
    "# them to build a naive Bayes model\n",
    "\n",
    "def train(X_train, y_train):\n",
    "    grouped = X_train.groupby(y_train)\n",
    "    for label in np.unique(y_train):\n",
    "        print(grouped.get_group(label))\n",
    "    return\n",
    "\n",
    "X_train, X_test, y_train, y_test = train_test_split(X,Y)\n",
    "train(X_train, y_train)"
   ]
  },
  {
   "cell_type": "code",
   "execution_count": 14,
   "metadata": {
    "collapsed": true,
    "pycharm": {
     "is_executing": false
    }
   },
   "outputs": [],
   "source": [
    "# This function should predict classes for new items in a test dataset (for the purposes of this assignment, you\n",
    "# can re-use the training data as a test set)\n",
    "\n",
    "def predict():\n",
    "    return"
   ]
  },
  {
   "cell_type": "code",
   "execution_count": 15,
   "metadata": {
    "collapsed": true,
    "pycharm": {
     "is_executing": false
    }
   },
   "outputs": [],
   "source": [
    "# This function should evaliate the prediction performance by comparing your model’s class outputs to ground\n",
    "# truth labels\n",
    "\n",
    "def evaluate():\n",
    "    return"
   ]
  },
  {
   "cell_type": "markdown",
   "metadata": {},
   "source": [
    "## Questions \n",
    "\n",
    "\n",
    "If you are in a group of 1, you will respond to question (1), and **one** other of your choosing (two responses in total).\n",
    "\n",
    "If you are in a group of 2, you will respond to question (1) and question (2), and **two** others of your choosing (four responses in total). \n",
    "\n",
    "A response to a question should take about 100–250 words, and make reference to the data wherever possible.\n",
    "\n",
    "#### NOTE: you may develope codes or functions in respond to the question, but your formal answer should be added to a separate file."
   ]
  },
  {
   "cell_type": "markdown",
   "metadata": {},
   "source": [
    "### Q1\n",
    "Try discretising the numeric attributes in these datasets and treating them as discrete variables in the na¨ıve Bayes classifier. You can use a discretisation method of your choice and group the numeric values into any number of levels (but around 3 to 5 levels would probably be a good starting point). Does discretizing the variables improve classification performance, compared to the Gaussian na¨ıve Bayes approach? Why or why not?"
   ]
  },
  {
   "cell_type": "code",
   "execution_count": 15,
   "metadata": {
    "collapsed": true,
    "pycharm": {
     "is_executing": false
    }
   },
   "outputs": [],
   "source": []
  },
  {
   "cell_type": "markdown",
   "metadata": {},
   "source": [
    "### Q2\n",
    "Implement a baseline model (e.g., random or 0R) and compare the performance of the na¨ıve Bayes classifier to this baseline on multiple datasets. Discuss why the baseline performance varies across datasets, and to what extent the na¨ıve Bayes classifier improves on the baseline performance."
   ]
  },
  {
   "cell_type": "code",
   "execution_count": 15,
   "metadata": {
    "collapsed": true,
    "pycharm": {
     "is_executing": false
    }
   },
   "outputs": [],
   "source": []
  },
  {
   "cell_type": "markdown",
   "metadata": {},
   "source": [
    "### Q3\n",
    "Since it’s difficult to model the probabilities of ordinal data, ordinal attributes are often treated as either nominal variables or numeric variables. Compare these strategies on the ordinal datasets provided. Deterimine which approach gives higher classification accuracy and discuss why."
   ]
  },
  {
   "cell_type": "code",
   "execution_count": 15,
   "metadata": {
    "collapsed": true,
    "pycharm": {
     "is_executing": false
    }
   },
   "outputs": [],
   "source": []
  },
  {
   "cell_type": "markdown",
   "metadata": {},
   "source": [
    "### Q4\n",
    "Evaluating the model on the same data that we use to train the model is considered to be a major mistake in Machine Learning. Implement a hold–out or cross–validation evaluation strategy (you should implement this yourself and do not simply call existing implementations from `scikit-learn`). How does your estimate of effectiveness change, compared to testing on the training data? Explain why. (The result might surprise you!)"
   ]
  },
  {
   "cell_type": "code",
   "execution_count": 15,
   "metadata": {
    "collapsed": true,
    "pycharm": {
     "is_executing": false
    }
   },
   "outputs": [],
   "source": []
  },
  {
   "cell_type": "markdown",
   "metadata": {},
   "source": [
    "### Q5\n",
    "Implement one of the advanced smoothing regimes (add-k, Good-Turing). Does changing the smoothing regime (or indeed, not smoothing at all) affect the effectiveness of the na¨ıve Bayes classifier? Explain why, or why not."
   ]
  },
  {
   "cell_type": "code",
   "execution_count": 15,
   "metadata": {
    "collapsed": true,
    "pycharm": {
     "is_executing": false
    }
   },
   "outputs": [],
   "source": []
  },
  {
   "cell_type": "markdown",
   "metadata": {},
   "source": [
    "### Q6\n",
    "The Gaussian na¨ıve Bayes classifier assumes that numeric attributes come from a Gaussian distribution. Is this assumption always true for the numeric attributes in these datasets? Identify some cases where the Gaussian assumption is violated and describe any evidence (or lack thereof) that this has some effect on the NB classifier’s predictions."
   ]
  },
  {
   "cell_type": "code",
   "execution_count": 15,
   "metadata": {
    "collapsed": true,
    "pycharm": {
     "is_executing": false
    }
   },
   "outputs": [],
   "source": []
  }
 ],
 "metadata": {
  "kernelspec": {
   "display_name": "Python 3",
   "language": "python",
   "name": "python3"
  },
  "language_info": {
   "codemirror_mode": {
    "name": "ipython",
    "version": 3
   },
   "file_extension": ".py",
   "mimetype": "text/x-python",
   "name": "python",
   "nbconvert_exporter": "python",
   "pygments_lexer": "ipython3",
   "version": "3.7.3"
  },
  "pycharm": {
   "stem_cell": {
    "cell_type": "raw",
    "source": [],
    "metadata": {
     "collapsed": false
    }
   }
  }
 },
 "nbformat": 4,
 "nbformat_minor": 4
}