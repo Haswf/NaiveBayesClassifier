{
 "cells": [
  {
   "cell_type": "markdown",
   "metadata": {},
   "source": [
    "\n",
    "### The University of Melbourne, School of Computing and Information Systems\n",
    "# COMP30027 Machine Learning, 2020 Semester 1\n",
    "\n",
    "## Assignment 1: Naive Bayes Classifiers\n",
    "\n",
    "###### Submission deadline: 7 pm, Monday 20 Apr 2020"
   ]
  },
  {
   "cell_type": "markdown",
   "metadata": {},
   "source": [
    "**Student Name(s):**    Shuyang Fan, Yiran Wang \n",
    "\n",
    "**Student ID(s):**     988301, 987751\n"
   ]
  },
  {
   "cell_type": "markdown",
   "metadata": {},
   "source": [
    "This iPython notebook is a template which you will use for your Assignment 1 submission.\n",
    "\n",
    "Marking will be applied on the four functions that are defined in this notebook, and to your responses to the questions at the end of this notebook (Submitted in a separate PDF file).\n",
    "\n",
    "**NOTE: YOU SHOULD ADD YOUR RESULTS, DIAGRAMS AND IMAGES FROM YOUR OBSERVATIONS IN THIS FILE TO YOUR REPORT (the PDF file).**\n",
    "\n",
    "You may change the prototypes of these functions, and you may write other functions, according to your requirements. We would appreciate it if the required functions were prominent/easy to find.\n",
    "\n",
    "**Adding proper comments to your code is MANDATORY. **"
   ]
  },
  {
   "cell_type": "code",
   "execution_count": 1,
   "metadata": {
    "pycharm": {
     "is_executing": false,
     "name": "#%%\n"
    }
   },
   "outputs": [],
   "source": [
    "import pandas as pd\n",
    "import numpy as np\n",
    "from pandas.api.types import is_numeric_dtype\n",
    "from scipy.stats import mode "
   ]
  },
  {
   "cell_type": "code",
   "execution_count": 14,
   "metadata": {
    "pycharm": {
     "is_executing": false,
     "name": "#%%\n"
    }
   },
   "outputs": [],
   "source": [
    "data_set =\"./datasets/adult.data\"\n",
    "\n",
    "# Read data from csv\n",
    "def read_data(fileName):\n",
    "    data = pd.read_csv(fileName, header=None)\n",
    "    # print(data.head(5))\n",
    "    return data"
   ]
  },
  {
   "cell_type": "code",
   "execution_count": 15,
   "metadata": {
    "pycharm": {
     "is_executing": false,
     "name": "#%%\n"
    }
   },
   "outputs": [],
   "source": [
    "def handle_missing_value(data):\n",
    "    # Make a copy of raw data\n",
    "    copy = data.copy()\n",
    "    # Drop rows contains question mark\n",
    "    copy = copy[(copy.astype(str) != '?').all(axis=1)]\n",
    "    # Extract label from data\n",
    "    label = copy.iloc[:,-1]\n",
    "    # Filling missing value with category mode for each column\n",
    "    for i in range(copy.shape[1] - 1):\n",
    "        copy.iloc[:,:i] = copy.iloc[:,:i].groupby(label).transform(lambda x: x.fillna(x.mode())) \n",
    "    # Print how many missing value have been handled \n",
    "    # print(data.isna().sum() - copy.isna().sum())\n",
    "    # return the modified copy\n",
    "    return copy\n",
    "\n",
    "def binning(data):\n",
    "    copy = data.copy()\n",
    "    \n",
    "    numeric_column = []\n",
    "    for column in range(copy.shape[1] - 1):\n",
    "        if (is_numeric_dtype(copy.iloc[:,column])):\n",
    "            numeric_column.append(column)\n",
    "        \n",
    "        \n",
    "    discretizer(copy, numeric_column, [10 for i in range(len(numeric_column))])\n",
    "    #print(copy.head())\n",
    "    return copy\n",
    "    \n",
    "def discretizer(X, column_index, bin_size):\n",
    "    for index, column in enumerate(column_index):\n",
    "        X.iloc[:,column] = pd.cut(X.iloc[:,column], bin_size[index])\n",
    "\n",
    "def train_test_split(X, y, test_size=0.2):\n",
    "    X_total = X.shape[0]\n",
    "    assert(X_total == y.size)\n",
    "    arr_rand = np.random.rand(X.shape[0])\n",
    "    split = arr_rand < np.percentile(arr_rand, test_size*100)\n",
    "\n",
    "    \n",
    "    X_train = X[split]\n",
    "    y_train = y[split]\n",
    "    X_test =  X[~split]\n",
    "    y_test = y[~split]\n",
    "    return X_train, X_test, y_train, y_test\n",
    "\n",
    "# This function should prepare the data by reading it from a file and converting it into a useful format for training and testing\n",
    "def preprocess(data):\n",
    "    data = handle_missing_value(data)\n",
    "    data = binning(data)\n",
    "    \n",
    "    # print(data)\n",
    "    X = data.iloc[:,:-1]\n",
    "    y = data.iloc[:,-1]\n",
    "\n",
    "    return X, y\n"
   ]
  },
  {
   "cell_type": "code",
   "execution_count": 16,
   "metadata": {
    "pycharm": {
     "is_executing": true,
     "name": "#%%\n"
    }
   },
   "outputs": [],
   "source": [
    "def get_prior(y_train):\n",
    "    train_inputs = y_train\n",
    "    #counts is a list that stores number of each label accordingly\n",
    "    labels, counts = np.unique(train_inputs, return_counts=True)\n",
    "    prior = {}\n",
    "    for i, label in enumerate(labels):\n",
    "        prior[label] = float(counts[i])/len(train_inputs)\n",
    "        \n",
    "    \n",
    "    return prior      "
   ]
  },
  {
   "cell_type": "code",
   "execution_count": 18,
   "metadata": {
    "pycharm": {
     "is_executing": false
    }
   },
   "outputs": [],
   "source": [
    "#Bayes calculate the product of prior and conditinoals,, take the max\n",
    "#then predict, throw the X-test into the model\n",
    "#then check the accuracy"
   ]
  },
  {
   "cell_type": "code",
   "execution_count": 176,
   "metadata": {
    "pycharm": {
     "is_executing": true
    }
   },
   "outputs": [
    {
     "data": {
      "text/plain": [
       "defaultdict(<function __main__.train.<locals>.<lambda>()>,\n",
       "            {0: defaultdict(dict,\n",
       "                         {'(16.927, 24.3]': {'<=50K': 0.20977641385357298,\n",
       "                           '>50K': 0.007477906186267845},\n",
       "                          '(24.3, 31.6]': {'<=50K': 0.211968434896975,\n",
       "                           '>50K': 0.10740992522093813},\n",
       "                          '(31.6, 38.9]': {'<=50K': 0.18084173608066637,\n",
       "                           '>50K': 0.2087015635622026},\n",
       "                          '(38.9, 46.2]': {'<=50K': 0.17864971503726434,\n",
       "                           '>50K': 0.2963970088375255},\n",
       "                          '(46.2, 53.5]': {'<=50K': 0.09425690486628671,\n",
       "                           '>50K': 0.2053025152957172},\n",
       "                          '(53.5, 60.8]': {'<=50K': 0.0655414291977203,\n",
       "                           '>50K': 0.11896668932698844},\n",
       "                          '(60.8, 68.1]': {'<=50K': 0.04055238930293731,\n",
       "                           '>50K': 0.04486743711760707},\n",
       "                          '(68.1, 75.4]': {'<=50K': 0.012494519947391494,\n",
       "                           '>50K': 0.006798096532970768},\n",
       "                          '(75.4, 82.7]': {'<=50K': 0.0035072336694432268,\n",
       "                           '>50K': 0.002719238613188307},\n",
       "                          '(82.7, 90.0]': {'<=50K': 0.0024112231477422183,\n",
       "                           '>50K': 0.0013596193065941536}}),\n",
       "             1: defaultdict(dict,\n",
       "                         {'Federal-gov': {'<=50K': 0.025427444103463395,\n",
       "                           '>50K': 0.05030591434398368},\n",
       "                          'Local-gov': {'<=50K': 0.06291100394563788,\n",
       "                           '>50K': 0.09041468388851122},\n",
       "                          'Private': {'<=50K': 0.7731258220078913,\n",
       "                           '>50K': 0.6464989802855201},\n",
       "                          'Self-emp-inc': {'<=50K': 0.019508987286277948,\n",
       "                           '>50K': 0.07070020394289599},\n",
       "                          'Self-emp-not-inc': {'<=50K': 0.07474791758000877,\n",
       "                           '>50K': 0.09517335146159075},\n",
       "                          'State-gov': {'<=50K': 0.04340201665935993,\n",
       "                           '>50K': 0.0469068660774983},\n",
       "                          'Without-pay': {'<=50K': 0.0008768084173608067,\n",
       "                           '>50K': 0}}),\n",
       "             2: defaultdict(dict,\n",
       "                         {'(12298.064, 160862.6]': {'<=50K': 0.40464708461201226,\n",
       "                           '>50K': 0.4282800815771584},\n",
       "                          '(160862.6, 307956.2]': {'<=50K': 0.47194213064445417,\n",
       "                           '>50K': 0.4554724677090415},\n",
       "                          '(307956.2, 455049.8]': {'<=50K': 0.1036825953529154,\n",
       "                           '>50K': 0.10061182868796736},\n",
       "                          '(455049.8, 602143.4]': {'<=50K': 0.013809732573432706,\n",
       "                           '>50K': 0.008837525492861998},\n",
       "                          '(602143.4, 749237.0]': {'<=50K': 0.004822446295484437,\n",
       "                           '>50K': 0.006118286879673691},\n",
       "                          '(749237.0, 896330.6]': {'<=50K': 0.00043840420868040335,\n",
       "                           '>50K': 0},\n",
       "                          '(896330.6, 1043424.2]': {'<=50K': 0.00021920210434020167,\n",
       "                           '>50K': 0.0006798096532970768},\n",
       "                          '(1043424.2, 1190517.8]': {'<=50K': 0.00043840420868040335,\n",
       "                           '>50K': 0}}),\n",
       "             3: defaultdict(dict,\n",
       "                         {'10th': {'<=50K': 0.0394563787812363,\n",
       "                           '>50K': 0.008157715839564922},\n",
       "                          '11th': {'<=50K': 0.04515563349408154,\n",
       "                           '>50K': 0.007477906186267845},\n",
       "                          '12th': {'<=50K': 0.017536168347216132,\n",
       "                           '>50K': 0.006118286879673691},\n",
       "                          '1st-4th': {'<=50K': 0.005918456817185445,\n",
       "                           '>50K': 0.0013596193065941536},\n",
       "                          '5th-6th': {'<=50K': 0.01183691363437089,\n",
       "                           '>50K': 0.0020394289598912306},\n",
       "                          '7th-8th': {'<=50K': 0.023235423060061378,\n",
       "                           '>50K': 0.003399048266485384},\n",
       "                          '9th': {'<=50K': 0.01709776413853573,\n",
       "                           '>50K': 0.006118286879673691},\n",
       "                          'Assoc-acdm': {'<=50K': 0.033318719859710653,\n",
       "                           '>50K': 0.03331067301155676},\n",
       "                          'Assoc-voc': {'<=50K': 0.04340201665935993,\n",
       "                           '>50K': 0.04758667573079538},\n",
       "                          'Bachelors': {'<=50K': 0.13393248575186323,\n",
       "                           '>50K': 0.2821210061182869},\n",
       "                          'Doctorate': {'<=50K': 0.00394563787812363,\n",
       "                           '>50K': 0.03942895989123046},\n",
       "                          'HS-grad': {'<=50K': 0.3505041648399825,\n",
       "                           '>50K': 0.2229775662814412},\n",
       "                          'Masters': {'<=50K': 0.030907496711968435,\n",
       "                           '>50K': 0.12780421481985044},\n",
       "                          'Preschool': {'<=50K': 0.0024112231477422183,\n",
       "                           '>50K': 0},\n",
       "                          'Prof-school': {'<=50K': 0.006795265234546251,\n",
       "                           '>50K': 0.04962610469068661},\n",
       "                          'Some-college': {'<=50K': 0.2345462516440158,\n",
       "                           '>50K': 0.16247450713800135}}),\n",
       "             4: defaultdict(dict,\n",
       "                         {'(0.985, 2.5]': {'<=50K': 0.008329679964927663,\n",
       "                           '>50K': 0.0013596193065941536},\n",
       "                          '(2.5, 4.0]': {'<=50K': 0.035072336694432264,\n",
       "                           '>50K': 0.005438477226376614},\n",
       "                          '(4.0, 5.5]': {'<=50K': 0.01709776413853573,\n",
       "                           '>50K': 0.006118286879673691},\n",
       "                          '(5.5, 7.0]': {'<=50K': 0.08461201227531784,\n",
       "                           '>50K': 0.01563562202583277},\n",
       "                          '(7.0, 8.5]': {'<=50K': 0.017536168347216132,\n",
       "                           '>50K': 0.006118286879673691},\n",
       "                          '(8.5, 10.0]': {'<=50K': 0.5850504164839982,\n",
       "                           '>50K': 0.38545207341944254},\n",
       "                          '(10.0, 11.5]': {'<=50K': 0.04340201665935993,\n",
       "                           '>50K': 0.04758667573079538},\n",
       "                          '(11.5, 13.0]': {'<=50K': 0.16725120561157386,\n",
       "                           '>50K': 0.31543167912984366},\n",
       "                          '(13.0, 14.5]': {'<=50K': 0.030907496711968435,\n",
       "                           '>50K': 0.12780421481985044},\n",
       "                          '(14.5, 16.0]': {'<=50K': 0.010740903112669882,\n",
       "                           '>50K': 0.08905506458191706}}),\n",
       "             5: defaultdict(dict,\n",
       "                         {'Divorced': {'<=50K': 0.17558088557650153,\n",
       "                           '>50K': 0.06458191706322229},\n",
       "                          'Married-AF-spouse': {'<=50K': 0.000657606313020605,\n",
       "                           '>50K': 0.0013596193065941536},\n",
       "                          'Married-civ-spouse': {'<=50K': 0.3307759754493643,\n",
       "                           '>50K': 0.8388851121685927},\n",
       "                          'Married-spouse-absent': {'<=50K': 0.014028934677772907,\n",
       "                           '>50K': 0.004758667573079538},\n",
       "                          'Never-married': {'<=50K': 0.4055238930293731,\n",
       "                           '>50K': 0.06730115567641061},\n",
       "                          'Separated': {'<=50K': 0.0396755808855765,\n",
       "                           '>50K': 0.01291638341264446},\n",
       "                          'Widowed': {'<=50K': 0.033757124068391056,\n",
       "                           '>50K': 0.010197144799456152}}),\n",
       "             6: defaultdict(dict,\n",
       "                         {'Adm-clerical': {'<=50K': 0.1431389741341517,\n",
       "                           '>50K': 0.07613868116927261},\n",
       "                          'Armed-Forces': {'<=50K': 0.000657606313020605,\n",
       "                           '>50K': 0},\n",
       "                          'Craft-repair': {'<=50K': 0.13941253836036827,\n",
       "                           '>50K': 0.11896668932698844},\n",
       "                          'Exec-managerial': {'<=50K': 0.09732573432704954,\n",
       "                           '>50K': 0.25424881033310676},\n",
       "                          'Farming-fishing': {'<=50K': 0.03638754932047348,\n",
       "                           '>50K': 0.01563562202583277},\n",
       "                          'Handlers-cleaners': {'<=50K': 0.05480052608505041,\n",
       "                           '>50K': 0.011556764106050306},\n",
       "                          'Machine-op-inspct': {'<=50K': 0.07409031126698816,\n",
       "                           '>50K': 0.03195105370496261},\n",
       "                          'Other-service': {'<=50K': 0.1323980710214818,\n",
       "                           '>50K': 0.016315431679129844},\n",
       "                          'Priv-house-serv': {'<=50K': 0.003726435773783428,\n",
       "                           '>50K': 0},\n",
       "                          'Prof-specialty': {'<=50K': 0.09557211749232793,\n",
       "                           '>50K': 0.2433718558803535},\n",
       "                          'Protective-serv': {'<=50K': 0.019070583077597545,\n",
       "                           '>50K': 0.026512576478585997},\n",
       "                          'Sales': {'<=50K': 0.12253397632617273,\n",
       "                           '>50K': 0.12372535690006799},\n",
       "                          'Tech-support': {'<=50K': 0.026085050416484,\n",
       "                           '>50K': 0.03602991162474507},\n",
       "                          'Transport-moving': {'<=50K': 0.05480052608505041,\n",
       "                           '>50K': 0.045547246770904146}}),\n",
       "             7: defaultdict(dict,\n",
       "                         {'Husband': {'<=50K': 0.29614204296361246,\n",
       "                           '>50K': 0.7321549966009517},\n",
       "                          'Not-in-family': {'<=50K': 0.3046909250328803,\n",
       "                           '>50K': 0.11964649898028552},\n",
       "                          'Other-relative': {'<=50K': 0.039017974572555895,\n",
       "                           '>50K': 0.004758667573079538},\n",
       "                          'Own-child': {'<=50K': 0.19289785181937746,\n",
       "                           '>50K': 0.008157715839564922},\n",
       "                          'Unmarried': {'<=50K': 0.13875493204734765,\n",
       "                           '>50K': 0.02991162474507138},\n",
       "                          'Wife': {'<=50K': 0.028496273564226217,\n",
       "                           '>50K': 0.1053704962610469}}),\n",
       "             8: defaultdict(dict,\n",
       "                         {'Amer-Indian-Eskimo': {'<=50K': 0.010960105217010083,\n",
       "                           '>50K': 0.0013596193065941536},\n",
       "                          'Asian-Pac-Islander': {'<=50K': 0.027838667251205613,\n",
       "                           '>50K': 0.030591434398368457},\n",
       "                          'Black': {'<=50K': 0.1045594037702762,\n",
       "                           '>50K': 0.05778382053025153},\n",
       "                          'Other': {'<=50K': 0.008548882069267865,\n",
       "                           '>50K': 0.002719238613188307},\n",
       "                          'White': {'<=50K': 0.8480929416922403,\n",
       "                           '>50K': 0.9075458871515976}}),\n",
       "             9: defaultdict(dict,\n",
       "                         {'Female': {'<=50K': 0.38557650153441475,\n",
       "                           '>50K': 0.16927260367097213},\n",
       "                          'Male': {'<=50K': 0.6144234984655853,\n",
       "                           '>50K': 0.8307273963290279}}),\n",
       "             10: defaultdict(dict,\n",
       "                         {'(-99.999, 9999.9]': {'<=50K': 0.9993423936869794,\n",
       "                           '>50K': 0.9082256968048946},\n",
       "                          '(9999.9, 19999.8]': {'<=50K': 0.00043840420868040335,\n",
       "                           '>50K': 0.06390210740992522},\n",
       "                          '(19999.8, 29999.7]': {'<=50K': 0,\n",
       "                           '>50K': 0.009517335146159076},\n",
       "                          '(39999.6, 49999.5]': {'<=50K': 0.00021920210434020167,\n",
       "                           '>50K': 0},\n",
       "                          '(89999.1, 99999.0]': {'<=50K': 0,\n",
       "                           '>50K': 0.018354860639021073}}),\n",
       "             11: defaultdict(dict,\n",
       "                         {'(-4.356, 435.6]': {'<=50K': 0.9710653222270934,\n",
       "                           '>50K': 0.8953093133922502},\n",
       "                          '(435.6, 871.2]': {'<=50K': 0.00021920210434020167,\n",
       "                           '>50K': 0.0006798096532970768},\n",
       "                          '(871.2, 1306.8]': {'<=50K': 0.0017536168347216134,\n",
       "                           '>50K': 0},\n",
       "                          '(1306.8, 1742.4]': {'<=50K': 0.016659359929855327,\n",
       "                           '>50K': 0.005438477226376614},\n",
       "                          '(1742.4, 2178.0]': {'<=50K': 0.008329679964927663,\n",
       "                           '>50K': 0.08293677770224338},\n",
       "                          '(2178.0, 2613.6]': {'<=50K': 0.001972818939061815,\n",
       "                           '>50K': 0.014276002719238613},\n",
       "                          '(2613.6, 3049.2]': {'<=50K': 0,\n",
       "                           '>50K': 0.0013596193065941536}}),\n",
       "             12: defaultdict(dict,\n",
       "                         {'(0.902, 10.8]': {'<=50K': 0.016878562034195528,\n",
       "                           '>50K': 0.005438477226376614},\n",
       "                          '(10.8, 20.6]': {'<=50K': 0.07518632178868917,\n",
       "                           '>50K': 0.014276002719238613},\n",
       "                          '(20.6, 30.4]': {'<=50K': 0.0775975449364314,\n",
       "                           '>50K': 0.02107409925220938},\n",
       "                          '(30.4, 40.2]': {'<=50K': 0.5876808417360807,\n",
       "                           '>50K': 0.47314751869476546},\n",
       "                          '(40.2, 50.0]': {'<=50K': 0.15366067514248136,\n",
       "                           '>50K': 0.3127124405166553},\n",
       "                          '(50.0, 59.8]': {'<=50K': 0.03003068829460763,\n",
       "                           '>50K': 0.06322229775662815},\n",
       "                          '(59.8, 69.6]': {'<=50K': 0.040333187198597104,\n",
       "                           '>50K': 0.07613868116927261},\n",
       "                          '(69.6, 79.4]': {'<=50K': 0.009864094695309075,\n",
       "                           '>50K': 0.016315431679129844},\n",
       "                          '(79.4, 89.2]': {'<=50K': 0.004384042086804033,\n",
       "                           '>50K': 0.012236573759347382},\n",
       "                          '(89.2, 99.0]': {'<=50K': 0.004384042086804033,\n",
       "                           '>50K': 0.005438477226376614}}),\n",
       "             13: defaultdict(dict,\n",
       "                         {'Cambodia': {'<=50K': 0.000657606313020605,\n",
       "                           '>50K': 0.0013596193065941536},\n",
       "                          'Canada': {'<=50K': 0.0024112231477422183,\n",
       "                           '>50K': 0.004078857919782461},\n",
       "                          'China': {'<=50K': 0.0021920210434020165,\n",
       "                           '>50K': 0.0006798096532970768},\n",
       "                          'Columbia': {'<=50K': 0.003288031565103025,\n",
       "                           '>50K': 0.0006798096532970768},\n",
       "                          'Cuba': {'<=50K': 0.004384042086804033,\n",
       "                           '>50K': 0.003399048266485384},\n",
       "                          'Dominican-Republic': {'<=50K': 0.001972818939061815,\n",
       "                           '>50K': 0},\n",
       "                          'Ecuador': {'<=50K': 0.000657606313020605,\n",
       "                           '>50K': 0.0006798096532970768},\n",
       "                          'El-Salvador': {'<=50K': 0.003726435773783428,\n",
       "                           '>50K': 0.0020394289598912306},\n",
       "                          'England': {'<=50K': 0.00263042525208242,\n",
       "                           '>50K': 0.003399048266485384},\n",
       "                          'France': {'<=50K': 0.00021920210434020167,\n",
       "                           '>50K': 0.002719238613188307},\n",
       "                          'Germany': {'<=50K': 0.003288031565103025,\n",
       "                           '>50K': 0.008157715839564922},\n",
       "                          'Greece': {'<=50K': 0.001972818939061815,\n",
       "                           '>50K': 0.0020394289598912306},\n",
       "                          'Guatemala': {'<=50K': 0.0021920210434020165,\n",
       "                           '>50K': 0},\n",
       "                          'Haiti': {'<=50K': 0.0017536168347216134,\n",
       "                           '>50K': 0.0006798096532970768},\n",
       "                          'Honduras': {'<=50K': 0.000657606313020605,\n",
       "                           '>50K': 0.0006798096532970768},\n",
       "                          'Hong': {'<=50K': 0.000657606313020605,\n",
       "                           '>50K': 0.0013596193065941536},\n",
       "                          'Hungary': {'<=50K': 0.00021920210434020167,\n",
       "                           '>50K': 0},\n",
       "                          'India': {'<=50K': 0.0015344147303814116,\n",
       "                           '>50K': 0.004078857919782461},\n",
       "                          'Iran': {'<=50K': 0.0015344147303814116,\n",
       "                           '>50K': 0.0020394289598912306},\n",
       "                          'Ireland': {'<=50K': 0.0008768084173608067,\n",
       "                           '>50K': 0},\n",
       "                          'Italy': {'<=50K': 0.0015344147303814116,\n",
       "                           '>50K': 0.002719238613188307},\n",
       "                          'Jamaica': {'<=50K': 0.0024112231477422183,\n",
       "                           '>50K': 0.0013596193065941536},\n",
       "                          'Japan': {'<=50K': 0.0015344147303814116,\n",
       "                           '>50K': 0.004078857919782461},\n",
       "                          'Laos': {'<=50K': 0.0008768084173608067, '>50K': 0},\n",
       "                          'Mexico': {'<=50K': 0.0263042525208242,\n",
       "                           '>50K': 0.006118286879673691},\n",
       "                          'Nicaragua': {'<=50K': 0.000657606313020605,\n",
       "                           '>50K': 0},\n",
       "                          'Outlying-US(Guam-USVI-etc)': {'<=50K': 0.000657606313020605,\n",
       "                           '>50K': 0},\n",
       "                          'Peru': {'<=50K': 0.0017536168347216134, '>50K': 0},\n",
       "                          'Philippines': {'<=50K': 0.005699254712845244,\n",
       "                           '>50K': 0.006798096532970768},\n",
       "                          'Poland': {'<=50K': 0.001972818939061815,\n",
       "                           '>50K': 0.0006798096532970768},\n",
       "                          'Portugal': {'<=50K': 0.0010960105217010083,\n",
       "                           '>50K': 0.0006798096532970768},\n",
       "                          'Puerto-Rico': {'<=50K': 0.004164839982463832,\n",
       "                           '>50K': 0.0020394289598912306},\n",
       "                          'Scotland': {'<=50K': 0.0008768084173608067,\n",
       "                           '>50K': 0},\n",
       "                          'South': {'<=50K': 0.0021920210434020165,\n",
       "                           '>50K': 0.0013596193065941536},\n",
       "                          'Taiwan': {'<=50K': 0.0008768084173608067,\n",
       "                           '>50K': 0.002719238613188307},\n",
       "                          'Thailand': {'<=50K': 0.0008768084173608067,\n",
       "                           '>50K': 0},\n",
       "                          'Trinadad&Tobago': {'<=50K': 0.000657606313020605,\n",
       "                           '>50K': 0.0013596193065941536},\n",
       "                          'United-States': {'<=50K': 0.9055238930293731,\n",
       "                           '>50K': 0.9306594153636981},\n",
       "                          'Vietnam': {'<=50K': 0.002849627356422622,\n",
       "                           '>50K': 0},\n",
       "                          'Yugoslavia': {'<=50K': 0.000657606313020605,\n",
       "                           '>50K': 0.0013596193065941536}})})"
      ]
     },
     "execution_count": 176,
     "metadata": {},
     "output_type": "execute_result"
    }
   ],
   "source": [
    "# This function should calculat prior probabilities and likelihoods from the training data and using\n",
    "# them to build a naive Bayes model\n",
    "from collections import Counter, defaultdict\n",
    "\n",
    "def calculate_conditional_probability(X_train, y_train):\n",
    "    conditional_prob = defaultdict(lambda: defaultdict(dict))\n",
    "    # Sepeate training instances by label\n",
    "    grouped = X_train.groupby(y_train)\n",
    "    \n",
    "    for outcome in np.unique(y_train):\n",
    "        separated = grouped.get_group(outcome)\n",
    "        for column_index in range(X_train.shape[1]):\n",
    "            # Extract one attribute from group\n",
    "            attribute = separated.iloc[:,column_index]\n",
    "            # Find all possible values of this attribute\n",
    "            possible_values = np.unique(X_train.iloc[:,column_index])\n",
    "            # Call Counter to count the frequency of each value\n",
    "            counts = Counter(attribute)\n",
    "            for value in possible_values:\n",
    "                if value in counts:\n",
    "                    conditional_prob[column_index][str(value)][outcome] = counts[value] / attribute.shape[0]\n",
    "                else:\n",
    "                    conditional_prob[column_index][str(value)][outcome] = 0\n",
    "\n",
    "    return conditional_prob\n",
    "\n",
    "data = read_data(data_set)\n",
    "\n",
    "X,y = preprocess(data)\n",
    "\n",
    "X_train, X_test, y_train, y_test = train_test_split(X,y)\n",
    "train(X_train, y_train)"
   ]
  },
  {
   "cell_type": "code",
   "execution_count": 119,
   "metadata": {},
   "outputs": [
    {
     "data": {
      "text/plain": [
       "'b'"
      ]
     },
     "execution_count": 119,
     "metadata": {},
     "output_type": "execute_result"
    }
   ],
   "source": [
    "def fine_key_with_max_value(dic):\n",
    "    max_value = 0\n",
    "    max_key = None\n",
    "    for key in dic:\n",
    "        if dic[key] > max_value:\n",
    "            max_key = key\n",
    "            max_value = dic[key]\n",
    "    return max_key\n",
    "fine_key_with_max_value({\"a\":1, \"b\":2})"
   ]
  },
  {
   "cell_type": "code",
   "execution_count": 168,
   "metadata": {},
   "outputs": [],
   "source": [
    "class BayesClassifier():\n",
    "\n",
    "    def train(self, X_train, y_train):\n",
    "        self.X_train = X_train.copy()\n",
    "        self.y_train = y_train.copy()\n",
    "        self.prior = self.get_prior(self.y_train)\n",
    "        self.conditional_prob = self.compute_conditional_probability(self.X_train, self.y_train)\n",
    "        self.possible_labels = np.unique(self.y_train)\n",
    "    \n",
    "    def get_prior(self, y_train):\n",
    "        train_inputs = y_train\n",
    "        #counts is a list that stores number of each label accordingly\n",
    "        labels, counts = np.unique(train_inputs, return_counts=True)\n",
    "        prior = {}\n",
    "        for i, label in enumerate(labels):\n",
    "            prior[label] = float(counts[i])/len(train_inputs)\n",
    "        return prior      \n",
    "\n",
    "    def compute_conditional_probability(self, X_train, y_train):\n",
    "        conditional_prob = defaultdict(lambda: defaultdict(dict))\n",
    "        # Sepeate training instances by label\n",
    "        grouped = X_train.groupby(y_train)\n",
    "\n",
    "        for outcome in np.unique(y_train):\n",
    "            separated = grouped.get_group(outcome)\n",
    "            for column_index in range(X_train.shape[1]):\n",
    "                # Extract one attribute from group\n",
    "                attribute = separated.iloc[:,column_index]\n",
    "                # Find all possible values of this attribute\n",
    "                possible_values = np.unique(X_train.iloc[:,column_index])\n",
    "                # Call Counter to count the frequency of each value\n",
    "                counts = Counter(attribute)\n",
    "                for value in possible_values:\n",
    "                    if value in counts:\n",
    "                        conditional_prob[column_index][str(value)][outcome] = counts[value] / attribute.shape[0]\n",
    "                    else:\n",
    "                        conditional_prob[column_index][str(value)][outcome] = 0\n",
    "        return conditional_prob\n",
    "    \n",
    "    def predict(self, X_test):\n",
    "        X_test_copy = X_test.copy()\n",
    "        conditional_prob = self.conditional_prob\n",
    "        priors = self.prior\n",
    "        possible_labels = self.possible_labels\n",
    "        predicted_outputs = []\n",
    "    \n",
    "        row, column = X_test_copy.shape\n",
    "        for row_index in range(row):\n",
    "            probability = defaultdict(float)\n",
    "            \n",
    "            for label in possible_labels:\n",
    "                probability[label] = priors[label]\n",
    "                \n",
    "            for column_index in range(column):\n",
    "                # Get the value of this attribute\n",
    "                value = X_test_copy.iloc[row_index, column_index]\n",
    "                # Get conditional probability\n",
    "                for label in possible_labels:\n",
    "                    if value in conditional_prob[column_index]:\n",
    "                        probability[label] *= conditional_prob[column_index][value][label]\n",
    "                    # No smoothing for now\n",
    "#                 else:\n",
    "#                     probability[label] = 0\n",
    "            # The prediced outcome is the lebel with the highest probability\n",
    "            predicted_outputs.append(fine_key_with_max_value(probability))\n",
    "        return predicted_outputs\n",
    "\n",
    "        "
   ]
  },
  {
   "cell_type": "code",
   "execution_count": 178,
   "metadata": {},
   "outputs": [
    {
     "name": "stdout",
     "output_type": "stream",
     "text": [
      "0.7866732968672302\n"
     ]
    }
   ],
   "source": [
    "bayes = BayesClassifier()\n",
    "bayes.train(X_train, y_train)\n",
    "result = bayes.predict(X_train)\n",
    "# print(result)\n",
    "print(accuracy(np.array(result), y_train))"
   ]
  },
  {
   "cell_type": "code",
   "execution_count": 145,
   "metadata": {
    "pycharm": {
     "is_executing": false,
     "name": "#%%\n"
    }
   },
   "outputs": [
    {
     "name": "stdout",
     "output_type": "stream",
     "text": [
      "0.8029342285216959\n"
     ]
    }
   ],
   "source": [
    "def BayesClassifier(X_train, y_train, X_test, y_test):\n",
    "    X_test_copy = X_test.copy()\n",
    "    \n",
    "    #MLE_vector = get_MLE_features(X_train, y_train)\n",
    "    conditional_prob = train(X_train, y_train)\n",
    "    priors = get_prior(y_train)\n",
    "    possible_labels = np.unique(y_train)\n",
    "    predicted_outputs = []\n",
    "    \n",
    "    row, column = X_test_copy.shape\n",
    "    for row_index in range(row):\n",
    "        probability = defaultdict(float)\n",
    "        for label in possible_labels:\n",
    "            probability[label] = 1.0\n",
    "        for column_index in range(column):\n",
    "            # Get the value of this attribute\n",
    "            value = X_test_copy.iloc[row_index, column_index]\n",
    "            # Get conditional probability\n",
    "            for label in possible_labels:\n",
    "                if value in conditional_prob[column_index]:\n",
    "                    probability[label] *= conditional_prob[column_index][value][label]\n",
    "                    # No smoothing for now\n",
    "#                 else:\n",
    "#                     probability[label] = 0\n",
    "\n",
    "        probability[label]  *= priors[label]\n",
    "        # The prediced outcome is the lebel with the highest probability\n",
    "        predicted_outputs.append(fine_key_with_max_value(probability))\n",
    "#         X_test_copy.iloc[row_index][\"outcome\"] = fine_key_with_max_value(probability)\n",
    "    return predicted_outputs\n",
    "        \n",
    "\n",
    "\n"
   ]
  },
  {
   "cell_type": "code",
   "execution_count": null,
   "metadata": {
    "pycharm": {
     "is_executing": false,
     "name": "#%%\n"
    }
   },
   "outputs": [],
   "source": []
  },
  {
   "cell_type": "code",
   "execution_count": 173,
   "metadata": {
    "pycharm": {
     "is_executing": false
    }
   },
   "outputs": [],
   "source": [
    "def random_baseline(X_train, y_train):\n",
    "    labels = np.unique(y_train)\n",
    "    y_baseline = [np.random.choice(labels) for i in range(len(y_train))]\n",
    "    return y_baseline"
   ]
  },
  {
   "cell_type": "code",
   "execution_count": null,
   "metadata": {
    "pycharm": {
     "is_executing": false
    }
   },
   "outputs": [],
   "source": [
    "#separated datasets each attribute \n",
    "def summarize_dataset(dataset):\n",
    "    summaries = []\n",
    "    del(summaries[-1])\n",
    "    return summaries"
   ]
  },
  {
   "cell_type": "code",
   "execution_count": null,
   "metadata": {
    "pycharm": {
     "is_executing": false
    }
   },
   "outputs": [],
   "source": [
    "def summarize_by_class(dataset):\n",
    "    separated = separate_by_class(dataset)\n",
    "    summaries = dict()\n",
    "    for class_value, rows in separated.items():\n",
    "        summaries[class_value] = summarize_dataset(rows)\n",
    "    return summaries"
   ]
  },
  {
   "cell_type": "code",
   "execution_count": null,
   "metadata": {
    "pycharm": {
     "is_executing": false
    }
   },
   "outputs": [],
   "source": [
    "def BayesClassifier(X_train, y_train, X_test, y_test):\n",
    "    #MLE_vector = get_MLE_features(X_train, y_train)\n",
    "    priors = get_prior(y_train)\n",
    "    possible_labels = np.unique(y_train)\n",
    "    predicted_outputs = []\n",
    "    for i, x_test_vector in enumerate(X_test):\n",
    "        output_vector = []\n",
    "        for label in possible_labels:\n",
    "            label = int(label)\n",
    "            output = 1\n",
    "            for i, feature_val in enumerate(x_test_vector):\n",
    "                if :\n",
    "                    output = output * get_condition(X_test)\n",
    "                #else:\n",
    "                    #output = output * getParetoDist(MLE_vector[i], feature_val, label)\n",
    "            output = output * priors[label]\n",
    "            output_vector.append(output)\n",
    "        predicted_outputs.append(output_vector)\n",
    "    return predicted_outputs"
   ]
  },
  {
   "cell_type": "code",
   "execution_count": null,
   "metadata": {
    "pycharm": {
     "is_executing": false
    }
   },
   "outputs": [],
   "source": []
  },
  {
   "cell_type": "code",
   "execution_count": null,
   "metadata": {
    "pycharm": {
     "is_executing": false,
     "name": "#%%\n"
    }
   },
   "outputs": [],
   "source": [
    "data = read_data(data_set)\n",
    "\n",
    "X,y = preprocess(data)\n",
    "\n",
    "#data = separate_by_class(data)\n"
   ]
  },
  {
   "cell_type": "code",
   "execution_count": null,
   "metadata": {
    "pycharm": {
     "is_executing": false
    }
   },
   "outputs": [],
   "source": [
    "# This function should predict classes for new items in a test dataset (for the purposes of this assignment, you\n",
    "# can re-use the training data as a test set)\n",
    "\n",
    "def predict(y_train, y):\n",
    "    #for each class find the largest find the maximum\n",
    "    X = copy.deepcopy(X)\n",
    "        self.d.apply(X)\n",
    "        apply_raw2index(X, self.feat2index_dict_x)\n",
    "        y = []\n",
    "        prob = []\n",
    "        input_prob = []\n",
    "        for i in range(X.shape[0]):\n",
    "            now_x = X[i]\n",
    "            joint_prob = copy.deepcopy(self.prior)\n",
    "            for j in range(X.shape[1]):\n",
    "                for k in range(len(self.feat2index_dict_y)):\n",
    "                    joint_prob[k] = joint_prob[k] * self.conditionals[k][j][now_x[j]]\n",
    "\n",
    "            pred = np.argmax(joint_prob)\n",
    "            y.append(pred)\n",
    "            prob.append(joint_prob[pred] / np.sum(joint_prob))\n",
    "            input_prob.append(np.sum(joint_prob))\n",
    "\n",
    "        return np.array(apply_index2raw(y, self.feat2index_dict_y)), prob, input_prob\n",
    "    return\n"
   ]
  },
  {
   "cell_type": "code",
   "execution_count": null,
   "metadata": {
    "pycharm": {
     "is_executing": false,
     "name": "#%% \n"
    }
   },
   "outputs": [],
   "source": [
    "def random_baseline(X_train, y_train):\n",
    "    labels = np.unique(y_train)\n",
    "    y_baseline = [np.random.choice(labels) for i in range(len(y_train))]\n",
    "    return y_baseline"
   ]
  },
  {
   "cell_type": "code",
   "execution_count": null,
   "metadata": {
    "pycharm": {
     "is_executing": false,
     "name": "#%%\n"
    }
   },
   "outputs": [],
   "source": [
    "def zero_r_baseline(X_train, y_train):\n",
    "    label = mode(y_train)\n",
    "    return np.repeat(label, len(y_train))"
   ]
  },
  {
   "cell_type": "code",
   "execution_count": 142,
   "metadata": {
    "pycharm": {
     "is_executing": false
    }
   },
   "outputs": [
    {
     "name": "stdout",
     "output_type": "stream",
     "text": [
      "0.75\n"
     ]
    }
   ],
   "source": [
    "def accuracy(y_predicted, y_truth):\n",
    "    assert(y_predicted.size==y_truth.size)\n",
    "    return np.sum(y_predicted == y_truth)/y_predicted.size\n",
    "\n",
    "print(accuracy(np.array([1,2,3,4]), np.array([1,2,3,5])))"
   ]
  },
  {
   "cell_type": "code",
   "execution_count": null,
   "metadata": {
    "pycharm": {
     "is_executing": false,
     "name": "#%%\n"
    }
   },
   "outputs": [],
   "source": [
    "def label_confusion_matrix(y_predicted, y_truth, label):\n",
    "    TP = 0\n",
    "    TN = 0\n",
    "    FP = 0\n",
    "    FN = 0\n",
    "    for index in range(y_predicted.size):\n",
    "        result =  y_predicted[index]\n",
    "        if (result==label):\n",
    "            if ((y_truth[index]) == label):\n",
    "                TP +=1\n",
    "            else:\n",
    "                FP +=1\n",
    "        else:\n",
    "            if ((y_truth[index]) == label):\n",
    "                FN += 1\n",
    "            else:\n",
    "                TN += 1\n",
    "    return TP, TN, FP, FN\n",
    "                \n",
    "  \n",
    "(TP, TN, FP, FN) = label_confusion_matrix(np.array([1, 0, 0, 1, 2]), np.array([1, 0, 1, 0, 2]), 2)  \n",
    "print(TP, TN, FP, FN)    \n",
    "    "
   ]
  },
  {
   "cell_type": "code",
   "execution_count": null,
   "metadata": {
    "pycharm": {
     "is_executing": false,
     "name": "#%%\n"
    }
   },
   "outputs": [],
   "source": [
    "# This function should evaliate the prediction performance by comparing your model’s class outputs to ground\n",
    "# truth labels\n",
    "def evaluate():\n",
    "    return "
   ]
  },
  {
   "cell_type": "markdown",
   "metadata": {},
   "source": [
    "## Questions \n",
    "\n",
    "\n",
    "If you are in a group of 1, you will respond to question (1), and **one** other of your choosing (two responses in total).\n",
    "\n",
    "If you are in a group of 2, you will respond to question (1) and question (2), and **two** others of your choosing (four responses in total). \n",
    "\n",
    "A response to a question should take about 100–250 words, and make reference to the data wherever possible.\n",
    "\n",
    "#### NOTE: you may develope codes or functions in respond to the question, but your formal answer should be added to a separate file."
   ]
  },
  {
   "cell_type": "markdown",
   "metadata": {},
   "source": [
    "### Q1\n",
    "Try discretising the numeric attributes in these datasets and treating them as discrete variables in the na¨ıve Bayes classifier. You can use a discretisation method of your choice and group the numeric values into any number of levels (but around 3 to 5 levels would probably be a good starting point). Does discretizing the variables improve classification performance, compared to the Gaussian na¨ıve Bayes approach? Why or why not?"
   ]
  },
  {
   "cell_type": "code",
   "execution_count": null,
   "metadata": {
    "collapsed": true,
    "pycharm": {
     "is_executing": false
    }
   },
   "outputs": [],
   "source": []
  },
  {
   "cell_type": "markdown",
   "metadata": {},
   "source": [
    "### Q2\n",
    "Implement a baseline model (e.g., random or 0R) and compare the performance of the na¨ıve Bayes classifier to this baseline on multiple datasets. Discuss why the baseline performance varies across datasets, and to what extent the na¨ıve Bayes classifier improves on the baseline performance."
   ]
  },
  {
   "cell_type": "code",
   "execution_count": null,
   "metadata": {
    "collapsed": true,
    "pycharm": {
     "is_executing": false
    }
   },
   "outputs": [],
   "source": []
  },
  {
   "cell_type": "markdown",
   "metadata": {},
   "source": [
    "### Q3\n",
    "Since it’s difficult to model the probabilities of ordinal data, ordinal attributes are often treated as either nominal variables or numeric variables. Compare these strategies on the ordinal datasets provided. Deterimine which approach gives higher classification accuracy and discuss why."
   ]
  },
  {
   "cell_type": "code",
   "execution_count": 128,
   "metadata": {
    "collapsed": true,
    "pycharm": {
     "is_executing": false
    }
   },
   "outputs": [],
   "source": []
  },
  {
   "cell_type": "markdown",
   "metadata": {},
   "source": [
    "### Q4\n",
    "Evaluating the model on the same data that we use to train the model is considered to be a major mistake in Machine Learning. Implement a hold–out or cross–validation evaluation strategy (you should implement this yourself and do not simply call existing implementations from `scikit-learn`). How does your estimate of effectiveness change, compared to testing on the training data? Explain why. (The result might surprise you!)"
   ]
  },
  {
   "cell_type": "code",
   "execution_count": 128,
   "metadata": {
    "collapsed": true,
    "pycharm": {
     "is_executing": false
    }
   },
   "outputs": [],
   "source": []
  },
  {
   "cell_type": "markdown",
   "metadata": {},
   "source": [
    "### Q5\n",
    "Implement one of the advanced smoothing regimes (add-k, Good-Turing). Does changing the smoothing regime (or indeed, not smoothing at all) affect the effectiveness of the na¨ıve Bayes classifier? Explain why, or why not."
   ]
  },
  {
   "cell_type": "code",
   "execution_count": 128,
   "metadata": {
    "collapsed": true,
    "pycharm": {
     "is_executing": false
    }
   },
   "outputs": [],
   "source": []
  },
  {
   "cell_type": "markdown",
   "metadata": {},
   "source": [
    "### Q6\n",
    "The Gaussian na¨ıve Bayes classifier assumes that numeric attributes come from a Gaussian distribution. Is this assumption always true for the numeric attributes in these datasets? Identify some cases where the Gaussian assumption is violated and describe any evidence (or lack thereof) that this has some effect on the NB classifier’s predictions."
   ]
  },
  {
   "cell_type": "code",
   "execution_count": 128,
   "metadata": {
    "collapsed": true,
    "pycharm": {
     "is_executing": false
    }
   },
   "outputs": [],
   "source": []
  }
 ],
 "metadata": {
  "kernelspec": {
   "display_name": "Python 3",
   "language": "python",
   "name": "python3"
  },
  "language_info": {
   "codemirror_mode": {
    "name": "ipython",
    "version": 3
   },
   "file_extension": ".py",
   "mimetype": "text/x-python",
   "name": "python",
   "nbconvert_exporter": "python",
   "pygments_lexer": "ipython3",
   "version": "3.7.1"
  },
  "pycharm": {
   "stem_cell": {
    "cell_type": "raw",
    "metadata": {
     "collapsed": false
    },
    "source": []
   }
  }
 },
 "nbformat": 4,
 "nbformat_minor": 4
}
